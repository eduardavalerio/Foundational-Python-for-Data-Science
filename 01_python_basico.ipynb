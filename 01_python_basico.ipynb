{
  "nbformat": 4,
  "nbformat_minor": 0,
  "metadata": {
    "colab": {
      "provenance": [],
      "authorship_tag": "ABX9TyP+VH7YiZdROiENkb2NgT5+",
      "include_colab_link": true
    },
    "kernelspec": {
      "name": "python3",
      "display_name": "Python 3"
    },
    "language_info": {
      "name": "python"
    }
  },
  "cells": [
    {
      "cell_type": "markdown",
      "metadata": {
        "id": "view-in-github",
        "colab_type": "text"
      },
      "source": [
        "<a href=\"https://colab.research.google.com/github/eduardavalerio/Foundational-Python-for-Data-Science/blob/main/01_python_basico.ipynb\" target=\"_parent\"><img src=\"https://colab.research.google.com/assets/colab-badge.svg\" alt=\"Open In Colab\"/></a>"
      ]
    },
    {
      "cell_type": "markdown",
      "source": [
        "## **Fundamentos de Python para ciência de dados**\n",
        "Kennedy R. Behrman\n",
        "https://github.com/kbehrman/foundational-python-for-data-science"
      ],
      "metadata": {
        "id": "JNkfByIQ6cN3"
      }
    },
    {
      "cell_type": "markdown",
      "source": [
        "Básico da codificação com os notebooks Jupyter, apresentação de bibliotecas, visualiação de dados, aprendizado de máquinas e processamento da linguagem natural."
      ],
      "metadata": {
        "id": "kEC8tNgX8T21"
      }
    },
    {
      "cell_type": "markdown",
      "source": [
        "### **Introdução aos notebooks**\n",
        "No livro é apresentado o ambiente notebook Jupyter do Google Colab, no entanto, todas as funções são iguais ao ambiente notebook Jupyter do VSCode.\n",
        "\n",
        "O ambiente notebook apresenta células de texto e células de código. As células de texto apresentam formato Markdown, enquanto que nas células de código, é rodado a linguagem Python.\n",
        "Mais informações sobre o modelo Markdown: https://colab.research.google.com/notebooks/markdown_guide.ipynb\n",
        "\n",
        "O arquivo notebook é amplamente utilizado na computação científica, isso porque, os cientistas queriam ter um envolvimento interativo com os dados e ainda compartilhar em um formato de documento."
      ],
      "metadata": {
        "id": "7wMA6xlS8kEl"
      }
    },
    {
      "cell_type": "markdown",
      "source": [
        "### Modificar o texto\n",
        "Formas de formatar o texto em um notebook para ficar em negrito, itálico, tachado e monoespaçado.\n",
        "\n",
        "**Negrito**\n",
        "\n",
        "_Itálico_ ou *Itálico*\n",
        "\n",
        "~~tachado~~\n",
        "\n",
        "`monoespaçado`"
      ],
      "metadata": {
        "id": "txActclQ-dX7"
      }
    },
    {
      "cell_type": "markdown",
      "source": [
        "### Criar listas numeradas ou não numeradas\n",
        "\n",
        "Para listas numeradas, colocar os números antes dos itens.\n",
        "\n",
        "1. item 1\n",
        "2. item 2\n",
        "\n",
        "Para listas não numeradas, colocar asterisco antes dos itens (lembrar de deixar espaçado).\n",
        "\n",
        "* item 1\n",
        "* item 2"
      ],
      "metadata": {
        "id": "HcUuBp4cAT6T"
      }
    },
    {
      "cell_type": "markdown",
      "source": [
        "### Cabeçalhos\n",
        "Os cabeçalhos são criados através de _hashtags_ sendo:\n",
        "\n",
        "# Título\n",
        "## Subtítulo\n",
        "### Sub subtítulo\n",
        "\n",
        "As _hashtags_ devem ser espaçadas e podem ser utilizadas juntamente com a formatação do texto."
      ],
      "metadata": {
        "id": "u-caZVjDBSaM"
      }
    },
    {
      "cell_type": "markdown",
      "source": [
        "### Linguagem LaTeX\n",
        "\n",
        "A linguagem LaTeX é muito utilizada na preparação de documentos técnicos e matemáticos, permitindo inserir diversas fórmulas e equações, no notebook é possível utilizar a linguagem LaTeX nas células de texto colocando **cifrão** no início e fim do código.\n",
        "\n",
        "$\\begin{equation}\n",
        "\\left.\\begin{aligned}\n",
        "B'&=-\\partial\\times E,\\\\\n",
        "E'&=\\partial\\times B - 4\\pi j,\n",
        "\\end{aligned}\n",
        "\\right\\}\n",
        "\\qquad \\text{Maxwell's equations}\n",
        "\\end{equation}$"
      ],
      "metadata": {
        "id": "ZEpNUzvCBW-Z"
      }
    },
    {
      "cell_type": "markdown",
      "source": [
        "### Células de código\n",
        "\n",
        "Utilizadas para executar uma declaração Python. Quando uma célula de código é executada, qualquer saída é exibida diretamente abaixo da célula, permitindo construir um código célula por célula, sem precisar executar de novo o documento inteiro quando realizar alguma alteração."
      ],
      "metadata": {
        "id": "yW28FKNqBbYa"
      }
    },
    {
      "cell_type": "code",
      "source": [
        "print (\"Hello\")"
      ],
      "metadata": {
        "colab": {
          "base_uri": "https://localhost:8080/"
        },
        "id": "iBJH-ah7A-hm",
        "outputId": "61720597-fabb-456a-cfc0-c9707b2f46ed"
      },
      "execution_count": null,
      "outputs": [
        {
          "output_type": "stream",
          "name": "stdout",
          "text": [
            "Hello\n"
          ]
        }
      ]
    },
    {
      "cell_type": "code",
      "source": [
        "! pwd"
      ],
      "metadata": {
        "colab": {
          "base_uri": "https://localhost:8080/"
        },
        "id": "RS2k9lP0EchT",
        "outputId": "3c89d739-ee2a-4d4b-fd69-a9a8bd790b89"
      },
      "execution_count": null,
      "outputs": [
        {
          "output_type": "stream",
          "name": "stdout",
          "text": [
            "/content\n"
          ]
        }
      ]
    },
    {
      "cell_type": "code",
      "source": [
        "var = !ls sample_data\n",
        "print(var)"
      ],
      "metadata": {
        "colab": {
          "base_uri": "https://localhost:8080/"
        },
        "id": "5iUrf0FOEe8C",
        "outputId": "f3902da6-7e34-4cd5-f67e-767fa525f813"
      },
      "execution_count": null,
      "outputs": [
        {
          "output_type": "stream",
          "name": "stdout",
          "text": [
            "['anscombe.json\\t\\t     california_housing_train.csv  mnist_train_small.csv', 'california_housing_test.csv  mnist_test.csv\\t\\t   README.md']\n"
          ]
        }
      ]
    },
    {
      "cell_type": "code",
      "source": [
        "import time\n",
        "%timeit(time.sleep(1))"
      ],
      "metadata": {
        "id": "O6cwN1s4ExYA",
        "colab": {
          "base_uri": "https://localhost:8080/"
        },
        "outputId": "b78f7ad5-010f-4df1-982b-f0c8c16a62b7"
      },
      "execution_count": 3,
      "outputs": [
        {
          "output_type": "stream",
          "name": "stderr",
          "text": [
            "UsageError: Line magic function `%timeit(time.sleep(1))` not found.\n"
          ]
        }
      ]
    },
    {
      "cell_type": "code",
      "source": [
        "%%html\n",
        "<marquee style='width: 30%; color: blue;'><b>Whee!</b><marquee>"
      ],
      "metadata": {
        "colab": {
          "base_uri": "https://localhost:8080/",
          "height": 39
        },
        "id": "OEsTeDH9BvWj",
        "outputId": "0690e3dd-5cce-4af4-d392-3f56916c3824"
      },
      "execution_count": 2,
      "outputs": [
        {
          "output_type": "display_data",
          "data": {
            "text/plain": [
              "<IPython.core.display.HTML object>"
            ],
            "text/html": [
              "<marquee style='width: 30%; color: blue;'><b>Whee!</b><marquee>\n"
            ]
          },
          "metadata": {}
        }
      ]
    },
    {
      "cell_type": "markdown",
      "source": [
        "Encontrar mais informações sobre funções mágicas https://nbviewer.jupyter.org/github/ipython/ipython/blob/1.x/examples/notebooks/Cell%20Magics.ipynb."
      ],
      "metadata": {
        "id": "4TPTo-bLCYsw"
      }
    }
  ]
}