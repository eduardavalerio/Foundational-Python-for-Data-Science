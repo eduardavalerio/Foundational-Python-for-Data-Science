{
  "nbformat": 4,
  "nbformat_minor": 0,
  "metadata": {
    "colab": {
      "provenance": [],
      "authorship_tag": "ABX9TyNQPvQ7hyPwgVFAJn4E/Iia",
      "include_colab_link": true
    },
    "kernelspec": {
      "name": "python3",
      "display_name": "Python 3"
    },
    "language_info": {
      "name": "python"
    }
  },
  "cells": [
    {
      "cell_type": "markdown",
      "metadata": {
        "id": "view-in-github",
        "colab_type": "text"
      },
      "source": [
        "<a href=\"https://colab.research.google.com/github/eduardavalerio/Foundational-Python-for-Data-Science/blob/main/03_sequencias.ipynb\" target=\"_parent\"><img src=\"https://colab.research.google.com/assets/colab-badge.svg\" alt=\"Open In Colab\"/></a>"
      ]
    },
    {
      "cell_type": "markdown",
      "source": [
        "# **Sequências**\n",
        "\n",
        "Sequência é uma coleção finita ordenada. É possível adicionar, remover e editar essa os itens dessa coleção.\n",
        "Os tipos predefinidos que compõe uma sequência são listas, tuplas, strings, strings binárias e intervalos."
      ],
      "metadata": {
        "id": "l8yVwRu3erLn"
      }
    },
    {
      "cell_type": "markdown",
      "source": [
        "##**Operações compartilhadas**"
      ],
      "metadata": {
        "id": "vX5k2gcSjW8c"
      }
    },
    {
      "cell_type": "code",
      "source": [
        "# Testar se um item é membro de uma sequência usando a operação 'in', retornando True ou False.\n",
        "'first' in ['first', 'second', 'third']"
      ],
      "metadata": {
        "id": "7ncHxRfSgAI_",
        "colab": {
          "base_uri": "https://localhost:8080/"
        },
        "outputId": "c9baf20f-16b4-4be0-b79e-8fa3912121f2"
      },
      "execution_count": null,
      "outputs": [
        {
          "output_type": "execute_result",
          "data": {
            "text/plain": [
              "True"
            ]
          },
          "metadata": {},
          "execution_count": 1
        }
      ]
    },
    {
      "cell_type": "code",
      "source": [
        "23 in (23, 25, 27, 29)"
      ],
      "metadata": {
        "colab": {
          "base_uri": "https://localhost:8080/"
        },
        "id": "xpxdjbYYtSre",
        "outputId": "f02104c4-a851-4ec2-da48-8e7acf7bd98e"
      },
      "execution_count": null,
      "outputs": [
        {
          "output_type": "execute_result",
          "data": {
            "text/plain": [
              "True"
            ]
          },
          "metadata": {},
          "execution_count": 2
        }
      ]
    },
    {
      "cell_type": "code",
      "source": [
        "'b' in 'cat'"
      ],
      "metadata": {
        "colab": {
          "base_uri": "https://localhost:8080/"
        },
        "id": "_i_y5IBXtm-Y",
        "outputId": "3dac5043-6353-4ded-8220-9affb7d751a8"
      },
      "execution_count": null,
      "outputs": [
        {
          "output_type": "execute_result",
          "data": {
            "text/plain": [
              "False"
            ]
          },
          "metadata": {},
          "execution_count": 3
        }
      ]
    },
    {
      "cell_type": "code",
      "source": [
        "# Testar se um item NÃO é membro de uma sequência usando 'not' junto com 'in'\n",
        "'b' not in 'cat'"
      ],
      "metadata": {
        "colab": {
          "base_uri": "https://localhost:8080/"
        },
        "id": "s_xNXv8StuW4",
        "outputId": "777b2c21-6d74-46ff-aaac-9a61835181c7"
      },
      "execution_count": null,
      "outputs": [
        {
          "output_type": "execute_result",
          "data": {
            "text/plain": [
              "True"
            ]
          },
          "metadata": {},
          "execution_count": 4
        }
      ]
    },
    {
      "cell_type": "markdown",
      "source": [
        "### **Indexando**\n",
        "Acessar um item de uma sequência usando sua posição, iniciando em 0 e terminando em n-1, sendo n o número de itens da sequência."
      ],
      "metadata": {
        "id": "k2IYC2pyb2Ny"
      }
    },
    {
      "cell_type": "code",
      "source": [
        "name = \"Eduarda\"\n",
        "name[0]"
      ],
      "metadata": {
        "id": "VsQDaTxsuDWo",
        "colab": {
          "base_uri": "https://localhost:8080/",
          "height": 35
        },
        "outputId": "db5c4253-9a5d-4cea-b23e-0c8af10b170d"
      },
      "execution_count": null,
      "outputs": [
        {
          "output_type": "execute_result",
          "data": {
            "text/plain": [
              "'E'"
            ],
            "application/vnd.google.colaboratory.intrinsic+json": {
              "type": "string"
            }
          },
          "metadata": {},
          "execution_count": 1
        }
      ]
    },
    {
      "cell_type": "code",
      "source": [
        "name[6]"
      ],
      "metadata": {
        "colab": {
          "base_uri": "https://localhost:8080/",
          "height": 35
        },
        "id": "N6tXE1wdceFt",
        "outputId": "4f1c394d-3059-4df0-cf2b-95d4b8ceb903"
      },
      "execution_count": null,
      "outputs": [
        {
          "output_type": "execute_result",
          "data": {
            "text/plain": [
              "'a'"
            ],
            "application/vnd.google.colaboratory.intrinsic+json": {
              "type": "string"
            }
          },
          "metadata": {},
          "execution_count": 2
        }
      ]
    },
    {
      "cell_type": "markdown",
      "source": [
        "É possível indexar de trás para frente usando indices de números negativos, sendo o último item -1 e o primeiro -n."
      ],
      "metadata": {
        "id": "2CoHZqQ1cmr4"
      }
    },
    {
      "cell_type": "code",
      "source": [
        "name[-1]"
      ],
      "metadata": {
        "colab": {
          "base_uri": "https://localhost:8080/",
          "height": 35
        },
        "id": "WWXtqdy1ckk4",
        "outputId": "baac4116-e3d9-4e24-b797-000c208afc87"
      },
      "execution_count": null,
      "outputs": [
        {
          "output_type": "execute_result",
          "data": {
            "text/plain": [
              "'a'"
            ],
            "application/vnd.google.colaboratory.intrinsic+json": {
              "type": "string"
            }
          },
          "metadata": {},
          "execution_count": 3
        }
      ]
    },
    {
      "cell_type": "code",
      "source": [
        "name[-7]"
      ],
      "metadata": {
        "colab": {
          "base_uri": "https://localhost:8080/",
          "height": 35
        },
        "id": "xECkWoz8c8YU",
        "outputId": "3f228dff-7eba-446e-e68f-d14481feb106"
      },
      "execution_count": null,
      "outputs": [
        {
          "output_type": "execute_result",
          "data": {
            "text/plain": [
              "'E'"
            ],
            "application/vnd.google.colaboratory.intrinsic+json": {
              "type": "string"
            }
          },
          "metadata": {},
          "execution_count": 4
        }
      ]
    },
    {
      "cell_type": "markdown",
      "source": [
        "### **Fatiamento**\n",
        "Utiliza do conceito do indexamento para formação de novas sequências contidas dentro das sequências iniciais, representam subsequências da orignal."
      ],
      "metadata": {
        "id": "nkAk8ITZeSuy"
      }
    },
    {
      "cell_type": "code",
      "source": [
        "name = \"Oceanografia\"\n",
        "name[0:6]"
      ],
      "metadata": {
        "colab": {
          "base_uri": "https://localhost:8080/",
          "height": 35
        },
        "id": "djAXfXnFc-AE",
        "outputId": "80e5ed40-2db0-4d8e-e703-f0e5d2c00c70"
      },
      "execution_count": null,
      "outputs": [
        {
          "output_type": "execute_result",
          "data": {
            "text/plain": [
              "'Oceano'"
            ],
            "application/vnd.google.colaboratory.intrinsic+json": {
              "type": "string"
            }
          },
          "metadata": {},
          "execution_count": 9
        }
      ]
    },
    {
      "cell_type": "code",
      "source": [
        "name[3:6]"
      ],
      "metadata": {
        "colab": {
          "base_uri": "https://localhost:8080/",
          "height": 35
        },
        "id": "3eTZ9KiMgUis",
        "outputId": "13aa8c3a-97d0-4cbc-b714-e039292e6447"
      },
      "execution_count": null,
      "outputs": [
        {
          "output_type": "execute_result",
          "data": {
            "text/plain": [
              "'ano'"
            ],
            "application/vnd.google.colaboratory.intrinsic+json": {
              "type": "string"
            }
          },
          "metadata": {},
          "execution_count": 8
        }
      ]
    },
    {
      "cell_type": "markdown",
      "source": [
        "A subsequência retornada inclui itens que começam no primeiro indice delimitado mas não inclui o indice final. Como se fosse **[item1:item2[**.\n",
        "\n",
        "Se omite o indice inicial, a subsequência inicia no começo da sequência-mãe, do mesmo modo que, se omite o indice final, a subsequência segue até o final da sequência-mãe."
      ],
      "metadata": {
        "id": "d4CqNGA_g1uU"
      }
    },
    {
      "cell_type": "code",
      "source": [
        "name[:6]"
      ],
      "metadata": {
        "colab": {
          "base_uri": "https://localhost:8080/",
          "height": 35
        },
        "id": "k1GWiE3ugtS3",
        "outputId": "95623705-ea43-4b73-b7ba-45a664b1ebaf"
      },
      "execution_count": null,
      "outputs": [
        {
          "output_type": "execute_result",
          "data": {
            "text/plain": [
              "'Oceano'"
            ],
            "application/vnd.google.colaboratory.intrinsic+json": {
              "type": "string"
            }
          },
          "metadata": {},
          "execution_count": 10
        }
      ]
    },
    {
      "cell_type": "code",
      "source": [
        "name[6:]"
      ],
      "metadata": {
        "colab": {
          "base_uri": "https://localhost:8080/",
          "height": 35
        },
        "id": "xYOeCjBTil9D",
        "outputId": "4b34c0d5-74c9-4688-f86b-9e5b830f3a7a"
      },
      "execution_count": null,
      "outputs": [
        {
          "output_type": "execute_result",
          "data": {
            "text/plain": [
              "'grafia'"
            ],
            "application/vnd.google.colaboratory.intrinsic+json": {
              "type": "string"
            }
          },
          "metadata": {},
          "execution_count": 11
        }
      ]
    },
    {
      "cell_type": "code",
      "source": [
        "# É possível utilizar indices negativos.\n",
        "name[-3:] # três últimas letras da sequência-mãe"
      ],
      "metadata": {
        "colab": {
          "base_uri": "https://localhost:8080/",
          "height": 35
        },
        "id": "MDb6fRyEiqxr",
        "outputId": "3a134ba2-76d1-405f-94c3-45722dc9dd95"
      },
      "execution_count": null,
      "outputs": [
        {
          "output_type": "execute_result",
          "data": {
            "text/plain": [
              "'fia'"
            ],
            "application/vnd.google.colaboratory.intrinsic+json": {
              "type": "string"
            }
          },
          "metadata": {},
          "execution_count": 13
        }
      ]
    },
    {
      "cell_type": "markdown",
      "source": [
        "Se quiser que o fatiamento pule itens é possível fornecer um terceiro argumento indicando a contagem."
      ],
      "metadata": {
        "id": "ET0s44sDj6t0"
      }
    },
    {
      "cell_type": "code",
      "source": [
        "name[:11:3]"
      ],
      "metadata": {
        "colab": {
          "base_uri": "https://localhost:8080/",
          "height": 35
        },
        "id": "Zrbfv0cDk7Vl",
        "outputId": "202c14e0-7517-4574-a8c6-8ffd525f297e"
      },
      "execution_count": null,
      "outputs": [
        {
          "output_type": "execute_result",
          "data": {
            "text/plain": [
              "'Oagf'"
            ],
            "application/vnd.google.colaboratory.intrinsic+json": {
              "type": "string"
            }
          },
          "metadata": {},
          "execution_count": 19
        }
      ]
    },
    {
      "cell_type": "code",
      "source": [
        "pontos = [0,1,2,3,4,5,6,7,8,9,10]\n",
        "pontos[1:10:2]"
      ],
      "metadata": {
        "colab": {
          "base_uri": "https://localhost:8080/"
        },
        "id": "0w8zMjEYi542",
        "outputId": "d86ba9bf-2e11-40b3-af91-3ee30279366a"
      },
      "execution_count": null,
      "outputs": [
        {
          "output_type": "execute_result",
          "data": {
            "text/plain": [
              "[1, 3, 5, 7, 9]"
            ]
          },
          "metadata": {},
          "execution_count": 16
        }
      ]
    },
    {
      "cell_type": "code",
      "source": [
        "# Para contar de trás para frente, basta utilizar um intervalo negativo.\n",
        "pontos[10:1:-2]"
      ],
      "metadata": {
        "colab": {
          "base_uri": "https://localhost:8080/"
        },
        "id": "-rYPk3eykNKk",
        "outputId": "bb51df65-1d34-47a4-d29a-91fb46212974"
      },
      "execution_count": null,
      "outputs": [
        {
          "output_type": "execute_result",
          "data": {
            "text/plain": [
              "[10, 8, 6, 4, 2]"
            ]
          },
          "metadata": {},
          "execution_count": 18
        }
      ]
    },
    {
      "cell_type": "markdown",
      "source": [
        "### **Interrogação**\n",
        "Para fazer operações compartilhadas em sequências para obter informações sobre elas."
      ],
      "metadata": {
        "id": "YEejv8k9ldRk"
      }
    },
    {
      "cell_type": "code",
      "source": [
        "# Saber o comprimento de uma sequência usando a função 'len'.\n",
        "len(name)"
      ],
      "metadata": {
        "colab": {
          "base_uri": "https://localhost:8080/"
        },
        "id": "R9XhQy09mJyf",
        "outputId": "33b1a31a-49f0-4a22-d4a0-f6ad6c8010ab"
      },
      "execution_count": null,
      "outputs": [
        {
          "output_type": "execute_result",
          "data": {
            "text/plain": [
              "12"
            ]
          },
          "metadata": {},
          "execution_count": 20
        }
      ]
    },
    {
      "cell_type": "code",
      "source": [
        "len(pontos)"
      ],
      "metadata": {
        "colab": {
          "base_uri": "https://localhost:8080/"
        },
        "id": "ME3-wIbzmcvB",
        "outputId": "398a580b-da72-4765-f07f-a42b3c662a68"
      },
      "execution_count": null,
      "outputs": [
        {
          "output_type": "execute_result",
          "data": {
            "text/plain": [
              "11"
            ]
          },
          "metadata": {},
          "execution_count": 21
        }
      ]
    },
    {
      "cell_type": "code",
      "source": [
        "# Utilizar as funções 'min' e 'max' para encontrar os itens mínimos e máximos\n",
        "min(pontos)"
      ],
      "metadata": {
        "colab": {
          "base_uri": "https://localhost:8080/"
        },
        "id": "y3m5bcp0mfu4",
        "outputId": "6455507f-b940-4b29-e765-3c0d68bb7444"
      },
      "execution_count": null,
      "outputs": [
        {
          "output_type": "execute_result",
          "data": {
            "text/plain": [
              "0"
            ]
          },
          "metadata": {},
          "execution_count": 22
        }
      ]
    },
    {
      "cell_type": "code",
      "source": [
        "max(pontos)"
      ],
      "metadata": {
        "colab": {
          "base_uri": "https://localhost:8080/"
        },
        "id": "mZqdaKu-mwLD",
        "outputId": "fa5ca5cf-0dfc-461d-d4df-40b363483ca6"
      },
      "execution_count": null,
      "outputs": [
        {
          "output_type": "execute_result",
          "data": {
            "text/plain": [
              "10"
            ]
          },
          "metadata": {},
          "execution_count": 23
        }
      ]
    },
    {
      "cell_type": "code",
      "source": [
        "max(name)"
      ],
      "metadata": {
        "colab": {
          "base_uri": "https://localhost:8080/",
          "height": 35
        },
        "id": "6kJDteG6m0y_",
        "outputId": "ed9d58ab-c33f-40a5-ec35-aac1c3006673"
      },
      "execution_count": null,
      "outputs": [
        {
          "output_type": "execute_result",
          "data": {
            "text/plain": [
              "'r'"
            ],
            "application/vnd.google.colaboratory.intrinsic+json": {
              "type": "string"
            }
          },
          "metadata": {},
          "execution_count": 25
        }
      ]
    },
    {
      "cell_type": "markdown",
      "source": [
        "## **Operações matemáticas**\n",
        "\n",
        "Adição e multiplicação com sequências do mesmo tipo.\n"
      ],
      "metadata": {
        "id": "FqjusOHwzsIW"
      }
    },
    {
      "cell_type": "code",
      "source": [
        "# Adição de sequências\n",
        "\"python\" + \"-\" + \"colab\""
      ],
      "metadata": {
        "id": "kwrCPa5Cm3mX",
        "colab": {
          "base_uri": "https://localhost:8080/",
          "height": 35
        },
        "outputId": "7272b4ac-9f33-4d03-a0b5-f389d12f880b"
      },
      "execution_count": 1,
      "outputs": [
        {
          "output_type": "execute_result",
          "data": {
            "text/plain": [
              "'python-colab'"
            ],
            "application/vnd.google.colaboratory.intrinsic+json": {
              "type": "string"
            }
          },
          "metadata": {},
          "execution_count": 1
        }
      ]
    },
    {
      "cell_type": "code",
      "source": [
        "[3, 7, 81] + [9, 15, 66, 72] # não soma o conteúdo, mas as sequências como um todo"
      ],
      "metadata": {
        "colab": {
          "base_uri": "https://localhost:8080/"
        },
        "id": "ReTi7U2x3EBh",
        "outputId": "33484fd5-caeb-49e2-f06a-960204579973"
      },
      "execution_count": 3,
      "outputs": [
        {
          "output_type": "execute_result",
          "data": {
            "text/plain": [
              "[3, 7, 81, 9, 15, 66, 72]"
            ]
          },
          "metadata": {},
          "execution_count": 3
        }
      ]
    },
    {
      "cell_type": "code",
      "source": [
        "# a multiplicação faz várias adições na sequência inteira.\n",
        "[1, 9] * 4"
      ],
      "metadata": {
        "colab": {
          "base_uri": "https://localhost:8080/"
        },
        "id": "7J7hYmPM3TgA",
        "outputId": "537e8c56-f10b-4c1e-c305-2ce896659a56"
      },
      "execution_count": 4,
      "outputs": [
        {
          "output_type": "execute_result",
          "data": {
            "text/plain": [
              "[1, 9, 1, 9, 1, 9, 1, 9]"
            ]
          },
          "metadata": {},
          "execution_count": 4
        }
      ]
    },
    {
      "cell_type": "code",
      "source": [
        "num_participantes = 23\n",
        "score = [0] * num_participantes # pontuação inicial por exemplo\n",
        "score"
      ],
      "metadata": {
        "colab": {
          "base_uri": "https://localhost:8080/"
        },
        "id": "ngDnBIji3u1E",
        "outputId": "525987ac-7a90-409f-ecba-222055150704"
      },
      "execution_count": 5,
      "outputs": [
        {
          "output_type": "execute_result",
          "data": {
            "text/plain": [
              "[0, 0, 0, 0, 0, 0, 0, 0, 0, 0, 0, 0, 0, 0, 0, 0, 0, 0, 0, 0, 0, 0, 0]"
            ]
          },
          "metadata": {},
          "execution_count": 5
        }
      ]
    },
    {
      "cell_type": "markdown",
      "source": [
        "## **Listas e Tuplas**\n",
        "\n",
        "sequências com qualquer tipo de objeto (str, int, floats). Os itens em uma **lista** ficam em colchetes, nas **tuplas** ficam em parênteses. A principal diferença entre listas e tuplas é que as listas podem ser mdificadas, as tuplas não."
      ],
      "metadata": {
        "id": "XZA73-3Q4KML"
      }
    },
    {
      "cell_type": "code",
      "source": [
        "# pode criar listas com o construtor list() ou com colchetes.\n",
        "lista = [1, 2, 3, 4, 5]\n",
        "lista"
      ],
      "metadata": {
        "colab": {
          "base_uri": "https://localhost:8080/"
        },
        "id": "PPUsjXsd514L",
        "outputId": "2ace43d9-2580-4a35-aa58-4b6df4890560"
      },
      "execution_count": 6,
      "outputs": [
        {
          "output_type": "execute_result",
          "data": {
            "text/plain": [
              "[1, 2, 3, 4, 5]"
            ]
          },
          "metadata": {},
          "execution_count": 6
        }
      ]
    },
    {
      "cell_type": "code",
      "source": [
        "# para criar tupla pode ser usado o construtor tuple() ou com parênteses.\n",
        "tup = (1, 2, 3, 4, 5)\n",
        "tup"
      ],
      "metadata": {
        "colab": {
          "base_uri": "https://localhost:8080/"
        },
        "id": "w7JwWcsh6DdP",
        "outputId": "754f276a-ca0b-41dc-9e50-55c85c48f3b9"
      },
      "execution_count": 8,
      "outputs": [
        {
          "output_type": "execute_result",
          "data": {
            "text/plain": [
              "(1, 2, 3, 4, 5)"
            ]
          },
          "metadata": {},
          "execution_count": 8
        }
      ]
    },
    {
      "cell_type": "code",
      "source": [
        "name = \"Eduarda\"\n",
        "letters = list(name)\n",
        "letters"
      ],
      "metadata": {
        "colab": {
          "base_uri": "https://localhost:8080/"
        },
        "id": "F6BjrW-v7tt5",
        "outputId": "4e3dc499-96d1-4c42-9b8b-6e3f5e64fd17"
      },
      "execution_count": 9,
      "outputs": [
        {
          "output_type": "execute_result",
          "data": {
            "text/plain": [
              "['E', 'd', 'u', 'a', 'r', 'd', 'a']"
            ]
          },
          "metadata": {},
          "execution_count": 9
        }
      ]
    },
    {
      "cell_type": "markdown",
      "source": [
        "É possível adicionar e remover itens da lista, o modo mais fácil para isso é usar o método `append` que adiciona um item ao final da lista. Para adicionar um item em uma posição diferente é utilizado o método `insert`."
      ],
      "metadata": {
        "id": "QAaTy9tL8COV"
      }
    },
    {
      "cell_type": "code",
      "source": [
        "flavours = ['chocolate', 'morango']\n",
        "flavours"
      ],
      "metadata": {
        "colab": {
          "base_uri": "https://localhost:8080/"
        },
        "id": "eObo7a_i76ta",
        "outputId": "c4e7055b-4159-407a-a591-6fd7c8322ece"
      },
      "execution_count": 10,
      "outputs": [
        {
          "output_type": "execute_result",
          "data": {
            "text/plain": [
              "['chocolate', 'morango']"
            ]
          },
          "metadata": {},
          "execution_count": 10
        }
      ]
    },
    {
      "cell_type": "code",
      "source": [
        "flavours.append('creme')\n",
        "flavours"
      ],
      "metadata": {
        "colab": {
          "base_uri": "https://localhost:8080/"
        },
        "id": "qUs3qKrs9rse",
        "outputId": "a69bcb00-6420-4d09-f048-d183c252f4e1"
      },
      "execution_count": 11,
      "outputs": [
        {
          "output_type": "execute_result",
          "data": {
            "text/plain": [
              "['chocolate', 'morango', 'creme']"
            ]
          },
          "metadata": {},
          "execution_count": 11
        }
      ]
    },
    {
      "cell_type": "code",
      "source": [
        "flavours.insert(0, 'pistache')\n",
        "flavours"
      ],
      "metadata": {
        "colab": {
          "base_uri": "https://localhost:8080/"
        },
        "id": "WZKofVmQ9yuC",
        "outputId": "2befba25-ef08-436b-9903-e0c6c0820aac"
      },
      "execution_count": 13,
      "outputs": [
        {
          "output_type": "execute_result",
          "data": {
            "text/plain": [
              "['pistache', 'creme', 'chocolate', 'morango', 'creme']"
            ]
          },
          "metadata": {},
          "execution_count": 13
        }
      ]
    },
    {
      "cell_type": "markdown",
      "source": [
        "Para remover um item da lista é utilizado o método `pop`, sem argumento, esse método remove o último item da lista, com argumento é possível especificar qual item remover."
      ],
      "metadata": {
        "id": "-Pk2S9mO-HRk"
      }
    },
    {
      "cell_type": "code",
      "source": [
        "flavours.pop(1)\n",
        "flavours"
      ],
      "metadata": {
        "colab": {
          "base_uri": "https://localhost:8080/"
        },
        "id": "vHGxfPF7965d",
        "outputId": "d8e25aeb-34c0-4672-9963-3e3ddb73a71c"
      },
      "execution_count": 14,
      "outputs": [
        {
          "output_type": "execute_result",
          "data": {
            "text/plain": [
              "['pistache', 'chocolate', 'morango', 'creme']"
            ]
          },
          "metadata": {},
          "execution_count": 14
        }
      ]
    },
    {
      "cell_type": "code",
      "source": [
        "# para adicionar uma lista a outra basta usar o método extend\n",
        "coberturas = ['caramelo', 'leite condensado']\n",
        "coberturas"
      ],
      "metadata": {
        "colab": {
          "base_uri": "https://localhost:8080/"
        },
        "id": "jITWGQoq-ore",
        "outputId": "a189fdda-1da8-4dfb-aee0-d9ee3600fcdb"
      },
      "execution_count": 15,
      "outputs": [
        {
          "output_type": "execute_result",
          "data": {
            "text/plain": [
              "['caramelo', 'leite condensado']"
            ]
          },
          "metadata": {},
          "execution_count": 15
        }
      ]
    },
    {
      "cell_type": "code",
      "source": [
        "coberturas.extend(flavours)\n",
        "coberturas"
      ],
      "metadata": {
        "colab": {
          "base_uri": "https://localhost:8080/"
        },
        "id": "cH4-BJ7U_Ajm",
        "outputId": "d61c4fef-fdff-4387-a0d7-f19f184fad65"
      },
      "execution_count": 16,
      "outputs": [
        {
          "output_type": "execute_result",
          "data": {
            "text/plain": [
              "['caramelo', 'leite condensado', 'pistache', 'chocolate', 'morango', 'creme']"
            ]
          },
          "metadata": {},
          "execution_count": 16
        }
      ]
    },
    {
      "cell_type": "code",
      "source": [],
      "metadata": {
        "id": "xiCBhS_8_GvN"
      },
      "execution_count": null,
      "outputs": []
    }
  ]
}