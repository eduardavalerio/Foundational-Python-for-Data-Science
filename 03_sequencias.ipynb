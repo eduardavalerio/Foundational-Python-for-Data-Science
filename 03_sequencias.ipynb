{
  "nbformat": 4,
  "nbformat_minor": 0,
  "metadata": {
    "colab": {
      "provenance": [],
      "authorship_tag": "ABX9TyNg1C4Fkysf+B/MfXQ5tBfV",
      "include_colab_link": true
    },
    "kernelspec": {
      "name": "python3",
      "display_name": "Python 3"
    },
    "language_info": {
      "name": "python"
    }
  },
  "cells": [
    {
      "cell_type": "markdown",
      "metadata": {
        "id": "view-in-github",
        "colab_type": "text"
      },
      "source": [
        "<a href=\"https://colab.research.google.com/github/eduardavalerio/Foundational-Python-for-Data-Science/blob/main/03_sequencias.ipynb\" target=\"_parent\"><img src=\"https://colab.research.google.com/assets/colab-badge.svg\" alt=\"Open In Colab\"/></a>"
      ]
    },
    {
      "cell_type": "markdown",
      "source": [
        "## Sequências\n",
        "\n",
        "Sequência é uma coleção finita ordenada. É possível adicionar, remover e editar essa os itens dessa coleção.\n",
        "Os tipos predefinidos que compõe uma sequência são listas, tuplas, strings, strings binárias e intervalos."
      ],
      "metadata": {
        "id": "l8yVwRu3erLn"
      }
    },
    {
      "cell_type": "code",
      "source": [
        "# Testar se um item é membro de uma sequência usando a operação 'in', retornando True ou False.\n",
        "'first' in ['first', 'second', 'third']"
      ],
      "metadata": {
        "id": "7ncHxRfSgAI_",
        "colab": {
          "base_uri": "https://localhost:8080/"
        },
        "outputId": "c9baf20f-16b4-4be0-b79e-8fa3912121f2"
      },
      "execution_count": 1,
      "outputs": [
        {
          "output_type": "execute_result",
          "data": {
            "text/plain": [
              "True"
            ]
          },
          "metadata": {},
          "execution_count": 1
        }
      ]
    },
    {
      "cell_type": "code",
      "source": [
        "23 in (23, 25, 27, 29)"
      ],
      "metadata": {
        "colab": {
          "base_uri": "https://localhost:8080/"
        },
        "id": "xpxdjbYYtSre",
        "outputId": "f02104c4-a851-4ec2-da48-8e7acf7bd98e"
      },
      "execution_count": 2,
      "outputs": [
        {
          "output_type": "execute_result",
          "data": {
            "text/plain": [
              "True"
            ]
          },
          "metadata": {},
          "execution_count": 2
        }
      ]
    },
    {
      "cell_type": "code",
      "source": [
        "'b' in 'cat'"
      ],
      "metadata": {
        "colab": {
          "base_uri": "https://localhost:8080/"
        },
        "id": "_i_y5IBXtm-Y",
        "outputId": "3dac5043-6353-4ded-8220-9affb7d751a8"
      },
      "execution_count": 3,
      "outputs": [
        {
          "output_type": "execute_result",
          "data": {
            "text/plain": [
              "False"
            ]
          },
          "metadata": {},
          "execution_count": 3
        }
      ]
    },
    {
      "cell_type": "code",
      "source": [
        "# Testar se um item NÃO é membro de uma sequência usando 'not' junto com 'in'\n",
        "'b' not in 'cat'"
      ],
      "metadata": {
        "colab": {
          "base_uri": "https://localhost:8080/"
        },
        "id": "s_xNXv8StuW4",
        "outputId": "777b2c21-6d74-46ff-aaac-9a61835181c7"
      },
      "execution_count": 4,
      "outputs": [
        {
          "output_type": "execute_result",
          "data": {
            "text/plain": [
              "True"
            ]
          },
          "metadata": {},
          "execution_count": 4
        }
      ]
    },
    {
      "cell_type": "code",
      "source": [],
      "metadata": {
        "id": "VsQDaTxsuDWo"
      },
      "execution_count": null,
      "outputs": []
    }
  ]
}