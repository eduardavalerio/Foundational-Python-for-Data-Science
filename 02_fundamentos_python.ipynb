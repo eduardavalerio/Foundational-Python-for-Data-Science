{
  "nbformat": 4,
  "nbformat_minor": 0,
  "metadata": {
    "colab": {
      "provenance": [],
      "authorship_tag": "ABX9TyPoshxse1IGBRCy144KYf/q",
      "include_colab_link": true
    },
    "kernelspec": {
      "name": "python3",
      "display_name": "Python 3"
    },
    "language_info": {
      "name": "python"
    }
  },
  "cells": [
    {
      "cell_type": "markdown",
      "metadata": {
        "id": "view-in-github",
        "colab_type": "text"
      },
      "source": [
        "<a href=\"https://colab.research.google.com/github/eduardavalerio/Foundational-Python-for-Data-Science/blob/main/02_fundamentos_python.ipynb\" target=\"_parent\"><img src=\"https://colab.research.google.com/assets/colab-badge.svg\" alt=\"Open In Colab\"/></a>"
      ]
    },
    {
      "cell_type": "markdown",
      "source": [
        "# **Fundamentos de Python**\n",
        "\n",
        "Apresentação de dados básicos predefinidos inteiros e _strings_. Declarações que atribuem valores e variáveis, declarações usadas para direcionar as ações do computador e importar módulos.\n",
        "\n",
        "Ao final do capítulo, será possível escrever um programa que realiza operações matemáticas simples em valores armazenados."
      ],
      "metadata": {
        "id": "DQw5cV15xxbg"
      }
    },
    {
      "cell_type": "markdown",
      "source": [
        "### Tipos básicos em Python\n",
        "\n",
        "**Analisador**: programa que pega o código como entrada e traduz em instruções para o computador.\n",
        "Exemplo: Analisador Python.\n",
        "\n",
        "Analisador Python divide o código em **Tokens** que tem um significado particular definido para a linguagem Python.\n",
        "\n",
        "Esses grupos no Python chamam-se **coleções** e **tipos**.\n",
        "\n",
        "Exitem tipos predefinidos na própria linguagem e outros definidos por desenvolvedores. Os principais tipos predefinidos são:\n",
        "\n",
        "* numéricos\n",
        "* sequências\n",
        "* mapeamentos\n",
        "* classes\n",
        "* instâncias\n",
        "* exceções\n",
        "\n",
        "Os tipos predefinidos mais básicos são os **numéricos** e as **sequências**\n",
        "\n",
        "1. **numéricos**: booleanos (bool), inteiros (int), números de ponto flutuante (float) e números imaginários.\n",
        "2. **sequências**: _strings_ (str) e _strings_ binárias."
      ],
      "metadata": {
        "id": "AaLBkzI61dHd"
      }
    },
    {
      "cell_type": "code",
      "source": [
        "type(19)"
      ],
      "metadata": {
        "colab": {
          "base_uri": "https://localhost:8080/"
        },
        "id": "JJ7KZZEB4boj",
        "outputId": "a4c9b6c3-befc-4d65-f56d-13419910cf62"
      },
      "execution_count": 1,
      "outputs": [
        {
          "output_type": "execute_result",
          "data": {
            "text/plain": [
              "int"
            ]
          },
          "metadata": {},
          "execution_count": 1
        }
      ]
    },
    {
      "cell_type": "code",
      "source": [
        "type(2.1)"
      ],
      "metadata": {
        "colab": {
          "base_uri": "https://localhost:8080/"
        },
        "id": "ciqM3H6D4d_m",
        "outputId": "e23d6a57-4686-4c5b-dd8a-342e5061c9a8"
      },
      "execution_count": 2,
      "outputs": [
        {
          "output_type": "execute_result",
          "data": {
            "text/plain": [
              "float"
            ]
          },
          "metadata": {},
          "execution_count": 2
        }
      ]
    },
    {
      "cell_type": "code",
      "source": [
        "type(True)"
      ],
      "metadata": {
        "colab": {
          "base_uri": "https://localhost:8080/"
        },
        "id": "rMgaikc84jNL",
        "outputId": "6c0db3a4-b46a-46c8-aa24-c93c9be10b86"
      },
      "execution_count": 3,
      "outputs": [
        {
          "output_type": "execute_result",
          "data": {
            "text/plain": [
              "bool"
            ]
          },
          "metadata": {},
          "execution_count": 3
        }
      ]
    },
    {
      "cell_type": "code",
      "source": [
        "type(False)"
      ],
      "metadata": {
        "colab": {
          "base_uri": "https://localhost:8080/"
        },
        "id": "V-cOQwLZ4p8D",
        "outputId": "0985f0ee-e03d-41e4-c96c-36f803f7e30d"
      },
      "execution_count": 4,
      "outputs": [
        {
          "output_type": "execute_result",
          "data": {
            "text/plain": [
              "bool"
            ]
          },
          "metadata": {},
          "execution_count": 4
        }
      ]
    },
    {
      "cell_type": "code",
      "source": [
        "type (\"Hello\")"
      ],
      "metadata": {
        "colab": {
          "base_uri": "https://localhost:8080/"
        },
        "id": "Rk9CSPJ94s67",
        "outputId": "09f457e9-ea04-43a4-9aef-c6115c6bfd61"
      },
      "execution_count": 5,
      "outputs": [
        {
          "output_type": "execute_result",
          "data": {
            "text/plain": [
              "str"
            ]
          },
          "metadata": {},
          "execution_count": 5
        }
      ]
    },
    {
      "cell_type": "code",
      "source": [
        "type(None)"
      ],
      "metadata": {
        "colab": {
          "base_uri": "https://localhost:8080/"
        },
        "id": "5-fkjMmB4zPK",
        "outputId": "d1375139-3e65-4ee7-f0a7-eead65f4b41e"
      },
      "execution_count": 6,
      "outputs": [
        {
          "output_type": "execute_result",
          "data": {
            "text/plain": [
              "NoneType"
            ]
          },
          "metadata": {},
          "execution_count": 6
        }
      ]
    },
    {
      "cell_type": "markdown",
      "source": [
        "Os **inteiros** (int) são representados no código como dígitos inteiros comuns.\n",
        "\n",
        "Os **números de ponto flutuante** (float) são representados com dígitos com operador de ponto (números decimais).\n",
        "\n",
        "Os **booleanos** (bool) são representados por duas constantes, True e False.\n",
        "\n",
        "Uma **_string_** são caracteres entre aspas, utilizado para representar textos.\n",
        "\n",
        "O **NoneType** tem apenas um valor (None) e é utilizado para representar algo que não tem valor."
      ],
      "metadata": {
        "id": "psNty29G48BU"
      }
    }
  ]
}