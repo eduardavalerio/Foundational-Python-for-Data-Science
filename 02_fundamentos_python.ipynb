{
  "nbformat": 4,
  "nbformat_minor": 0,
  "metadata": {
    "colab": {
      "provenance": [],
      "authorship_tag": "ABX9TyM4qkso7z7Kff/7Lnswk22O",
      "include_colab_link": true
    },
    "kernelspec": {
      "name": "python3",
      "display_name": "Python 3"
    },
    "language_info": {
      "name": "python"
    }
  },
  "cells": [
    {
      "cell_type": "markdown",
      "metadata": {
        "id": "view-in-github",
        "colab_type": "text"
      },
      "source": [
        "<a href=\"https://colab.research.google.com/github/eduardavalerio/Foundational-Python-for-Data-Science/blob/main/02_fundamentos_python.ipynb\" target=\"_parent\"><img src=\"https://colab.research.google.com/assets/colab-badge.svg\" alt=\"Open In Colab\"/></a>"
      ]
    },
    {
      "cell_type": "markdown",
      "source": [
        "# **Fundamentos de Python**\n",
        "\n",
        "Apresentação de dados básicos predefinidos inteiros e _strings_. Declarações que atribuem valores e variáveis, declarações usadas para direcionar as ações do computador e importar módulos.\n",
        "\n",
        "Ao final do capítulo, será possível escrever um programa que realiza operações matemáticas simples em valores armazenados."
      ],
      "metadata": {
        "id": "DQw5cV15xxbg"
      }
    },
    {
      "cell_type": "markdown",
      "source": [
        "### Tipos básicos em Python\n",
        "\n",
        "**Analisador**: programa que pega o código como entrada e traduz em instruções para o computador.\n",
        "Exemplo: Analisador Python.\n",
        "\n",
        "Analisador Python divide o código em **Tokens** que tem um significado particular definido para a linguagem Python.\n",
        "\n",
        "Esses grupos no Python chamam-se **coleções** e **tipos**.\n",
        "\n",
        "Exitem tipos predefinidos na própria linguagem e outros definidos por desenvolvedores. Os principais tipos predefinidos são:\n",
        "\n",
        "* numéricos\n",
        "* sequências\n",
        "* mapeamentos\n",
        "* classes\n",
        "* instâncias\n",
        "* exceções\n",
        "\n",
        "Os tipos predefinidos mais básicos são os **numéricos** e as **sequências**\n",
        "\n",
        "1. **numéricos**: booleanos (bool), inteiros (int), números de ponto flutuante (float) e números imaginários.\n",
        "2. **sequências**: _strings_ (str) e _strings_ binárias."
      ],
      "metadata": {
        "id": "AaLBkzI61dHd"
      }
    },
    {
      "cell_type": "code",
      "source": [
        "type(19)"
      ],
      "metadata": {
        "colab": {
          "base_uri": "https://localhost:8080/"
        },
        "id": "JJ7KZZEB4boj",
        "outputId": "a4c9b6c3-befc-4d65-f56d-13419910cf62"
      },
      "execution_count": null,
      "outputs": [
        {
          "output_type": "execute_result",
          "data": {
            "text/plain": [
              "int"
            ]
          },
          "metadata": {},
          "execution_count": 1
        }
      ]
    },
    {
      "cell_type": "code",
      "source": [
        "type(2.1)"
      ],
      "metadata": {
        "colab": {
          "base_uri": "https://localhost:8080/"
        },
        "id": "ciqM3H6D4d_m",
        "outputId": "e23d6a57-4686-4c5b-dd8a-342e5061c9a8"
      },
      "execution_count": null,
      "outputs": [
        {
          "output_type": "execute_result",
          "data": {
            "text/plain": [
              "float"
            ]
          },
          "metadata": {},
          "execution_count": 2
        }
      ]
    },
    {
      "cell_type": "code",
      "source": [
        "type(True)"
      ],
      "metadata": {
        "colab": {
          "base_uri": "https://localhost:8080/"
        },
        "id": "rMgaikc84jNL",
        "outputId": "6c0db3a4-b46a-46c8-aa24-c93c9be10b86"
      },
      "execution_count": null,
      "outputs": [
        {
          "output_type": "execute_result",
          "data": {
            "text/plain": [
              "bool"
            ]
          },
          "metadata": {},
          "execution_count": 3
        }
      ]
    },
    {
      "cell_type": "code",
      "source": [
        "type(False)"
      ],
      "metadata": {
        "colab": {
          "base_uri": "https://localhost:8080/"
        },
        "id": "V-cOQwLZ4p8D",
        "outputId": "0985f0ee-e03d-41e4-c96c-36f803f7e30d"
      },
      "execution_count": null,
      "outputs": [
        {
          "output_type": "execute_result",
          "data": {
            "text/plain": [
              "bool"
            ]
          },
          "metadata": {},
          "execution_count": 4
        }
      ]
    },
    {
      "cell_type": "code",
      "source": [
        "type (\"Hello\")"
      ],
      "metadata": {
        "colab": {
          "base_uri": "https://localhost:8080/"
        },
        "id": "Rk9CSPJ94s67",
        "outputId": "09f457e9-ea04-43a4-9aef-c6115c6bfd61"
      },
      "execution_count": null,
      "outputs": [
        {
          "output_type": "execute_result",
          "data": {
            "text/plain": [
              "str"
            ]
          },
          "metadata": {},
          "execution_count": 5
        }
      ]
    },
    {
      "cell_type": "code",
      "source": [
        "type(None)"
      ],
      "metadata": {
        "colab": {
          "base_uri": "https://localhost:8080/"
        },
        "id": "5-fkjMmB4zPK",
        "outputId": "d1375139-3e65-4ee7-f0a7-eead65f4b41e"
      },
      "execution_count": null,
      "outputs": [
        {
          "output_type": "execute_result",
          "data": {
            "text/plain": [
              "NoneType"
            ]
          },
          "metadata": {},
          "execution_count": 6
        }
      ]
    },
    {
      "cell_type": "markdown",
      "source": [
        "Os **inteiros** (int) são representados no código como dígitos inteiros comuns.\n",
        "\n",
        "Os **números de ponto flutuante** (float) são representados com dígitos com operador de ponto (números decimais).\n",
        "\n",
        "Os **booleanos** (bool) são representados por duas constantes, True e False.\n",
        "\n",
        "Uma **_string_** são caracteres entre aspas, utilizado para representar textos.\n",
        "\n",
        "O **NoneType** tem apenas um valor (None) e é utilizado para representar algo que não tem valor."
      ],
      "metadata": {
        "id": "psNty29G48BU"
      }
    },
    {
      "cell_type": "markdown",
      "source": [
        "### Linguagens de alto nível _versus_ linguagem de baixo nível\n",
        "\n",
        "**Linguagem de baixo nível**: são as linguagens mais próximas das instruções do computador. Exemplos: código da máquina e linguagem assembly. Com essas linguagens, você tem o máximo controle sobre exatamente o que faz o processador do computador.\n",
        "\n",
        "**Linguagem de alto nível**: abstraem grupos de instruções em partes maiores de funcionalidade, apresentam uma liguagem próxima da linguagem humana."
      ],
      "metadata": {
        "id": "DJGRlq53_huM"
      }
    },
    {
      "cell_type": "markdown",
      "source": [
        "### Declarações\n",
        "\n",
        "Cada declaração pode ser considerada uma ação que o computador deve realizar, uma declaração é uma linha de código.\n",
        "\n",
        "O python permite declarações simples e complexas. Nesse capítulo, será tratado declarações simples, posteriormente sera apresentado declarações complexas.\n",
        "\n",
        "Das ditas declarações simples, temos:\n",
        "\n",
        "1. Expressão\n",
        "2. Assert\n",
        "3. Atribuição\n",
        "4. Pass\n",
        "5. Delete\n",
        "6. Return\n",
        "7. Yield\n",
        "8. Raise\n",
        "9. Break\n",
        "10. Continue\n",
        "11. Import\n",
        "12. Future\n",
        "13. Global\n",
        "14. Nonlocal\n",
        "15. Print\n",
        "\n",
        "A maioria dos programas consistem em múltiplas declarações, sendo que o resultado de uma pode ser utilizado em declarações seguintes."
      ],
      "metadata": {
        "id": "oWSDv_jtCLz1"
      }
    },
    {
      "cell_type": "markdown",
      "source": [
        "### **Declarações de expressão**\n",
        "\n",
        "Parte do código avaliada em algum valor, ou sem valor (None). Pode ser uma expressão matemática ou uma chamada para uma função ou um método."
      ],
      "metadata": {
        "id": "vE1D_vOTnoM2"
      }
    },
    {
      "cell_type": "code",
      "source": [
        "23 * 42"
      ],
      "metadata": {
        "id": "H26ZCxHZCbO2",
        "colab": {
          "base_uri": "https://localhost:8080/"
        },
        "outputId": "170dac51-f5f5-4d8c-9784-e8c6e3c49fc8"
      },
      "execution_count": 1,
      "outputs": [
        {
          "output_type": "execute_result",
          "data": {
            "text/plain": [
              "966"
            ]
          },
          "metadata": {},
          "execution_count": 1
        }
      ]
    },
    {
      "cell_type": "code",
      "source": [
        "\"Hello\""
      ],
      "metadata": {
        "colab": {
          "base_uri": "https://localhost:8080/",
          "height": 35
        },
        "id": "6TB2U5x2o74V",
        "outputId": "65afc2fa-d88b-4e16-f104-9b38a1d913dd"
      },
      "execution_count": 2,
      "outputs": [
        {
          "output_type": "execute_result",
          "data": {
            "text/plain": [
              "'Hello'"
            ],
            "application/vnd.google.colaboratory.intrinsic+json": {
              "type": "string"
            }
          },
          "metadata": {},
          "execution_count": 2
        }
      ]
    },
    {
      "cell_type": "code",
      "source": [
        "import os\n",
        "os.getcwd()"
      ],
      "metadata": {
        "colab": {
          "base_uri": "https://localhost:8080/",
          "height": 35
        },
        "id": "zX0iHJyKo_qt",
        "outputId": "369362e0-cbb2-4cf2-de04-dc27bd2179a7"
      },
      "execution_count": 3,
      "outputs": [
        {
          "output_type": "execute_result",
          "data": {
            "text/plain": [
              "'/content'"
            ],
            "application/vnd.google.colaboratory.intrinsic+json": {
              "type": "string"
            }
          },
          "metadata": {},
          "execution_count": 3
        }
      ]
    },
    {
      "cell_type": "markdown",
      "source": [
        "### **Declarações assert**\n",
        "\n",
        "A declaração assert tem uma expressão como argumento e parâmetro e assegura que o resultado seja avaliado como `True`. Expressões de diferentes argumentos retornam False, None, Zero, contêineres vazios e strings vazias, essas expressões são avaliadas como `False`, gerando um erro no código."
      ],
      "metadata": {
        "id": "pI1SZe1UpPoV"
      }
    },
    {
      "cell_type": "code",
      "source": [
        "assert(False)"
      ],
      "metadata": {
        "colab": {
          "base_uri": "https://localhost:8080/",
          "height": 175
        },
        "id": "ffprDzFIpFPR",
        "outputId": "8af81667-c012-4d02-dc21-f643fe4d77b8"
      },
      "execution_count": 4,
      "outputs": [
        {
          "output_type": "error",
          "ename": "AssertionError",
          "evalue": "ignored",
          "traceback": [
            "\u001b[0;31m---------------------------------------------------------------------------\u001b[0m",
            "\u001b[0;31mAssertionError\u001b[0m                            Traceback (most recent call last)",
            "\u001b[0;32m<ipython-input-4-8808c4021c9c>\u001b[0m in \u001b[0;36m<cell line: 1>\u001b[0;34m()\u001b[0m\n\u001b[0;32m----> 1\u001b[0;31m \u001b[0;32massert\u001b[0m\u001b[0;34m(\u001b[0m\u001b[0;32mFalse\u001b[0m\u001b[0;34m)\u001b[0m\u001b[0;34m\u001b[0m\u001b[0;34m\u001b[0m\u001b[0m\n\u001b[0m",
            "\u001b[0;31mAssertionError\u001b[0m: "
          ]
        }
      ]
    },
    {
      "cell_type": "code",
      "source": [
        "assert(True)"
      ],
      "metadata": {
        "id": "oR6o4X6LqVeX"
      },
      "execution_count": 5,
      "outputs": []
    },
    {
      "cell_type": "markdown",
      "source": [
        "As declarações assert são utilizadas para assegurar que alguma condição verdadeira seja, de fato, verdadeira. Essas declarações têm impacto no desempenho, sendo possível desativá-las\n",
        "\n",
        "`python -o my_script.py`"
      ],
      "metadata": {
        "id": "TlLFGL73qeuh"
      }
    },
    {
      "cell_type": "markdown",
      "source": [
        "### **Declarações de atribuição**\n",
        "\n",
        "Uma variável que aponta para um conjunto de dados, portanto, uma mesma variável pode ser apontada para diferentes itens. É possível mudar os dados para as quais uma variável aponta sem mudar a variável (muda o conjunto de dados mas mantém a mesma variável)."
      ],
      "metadata": {
        "id": "1vCPFjTMrQUd"
      }
    },
    {
      "cell_type": "code",
      "source": [
        "#Atribuir variáveis e utilizar em uma parte do texto\n",
        "x = 12\n",
        "y = 'Hello'\n",
        "answer = x + 7\n",
        "print(f\"{y} Duda, the answer is {answer}\")\n",
        "\n",
        "#é possível atribuir diversas variáveis de uma vez só separando por vírgulas\n",
        "\n",
        "e, t = 19, 'Thor'\n",
        "l = e + 2\n",
        "print(f\"{e} é meu aniversário, {l} é aniversário do lucas, o cachorro dele chama {t}\")"
      ],
      "metadata": {
        "colab": {
          "base_uri": "https://localhost:8080/"
        },
        "id": "W5L-FhVIrMlm",
        "outputId": "77e8703f-c259-4495-f9e5-5f82a950d1b5"
      },
      "execution_count": 9,
      "outputs": [
        {
          "output_type": "stream",
          "name": "stdout",
          "text": [
            "Hello Duda, the answer is 19\n",
            "19 é meu aniversário, 21 é aniversário do lucas, o cachorro dele chama Thor\n"
          ]
        }
      ]
    },
    {
      "cell_type": "markdown",
      "source": [
        "### **Declarações pass**\n",
        "\n"
      ],
      "metadata": {
        "id": "_hGlpSKGwaQr"
      }
    }
  ]
}