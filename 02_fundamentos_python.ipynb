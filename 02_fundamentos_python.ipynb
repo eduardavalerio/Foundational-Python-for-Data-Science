{
  "nbformat": 4,
  "nbformat_minor": 0,
  "metadata": {
    "colab": {
      "provenance": [],
      "authorship_tag": "ABX9TyPsUsv4VXpHUcWYVhCA1Qre",
      "include_colab_link": true
    },
    "kernelspec": {
      "name": "python3",
      "display_name": "Python 3"
    },
    "language_info": {
      "name": "python"
    }
  },
  "cells": [
    {
      "cell_type": "markdown",
      "metadata": {
        "id": "view-in-github",
        "colab_type": "text"
      },
      "source": [
        "<a href=\"https://colab.research.google.com/github/eduardavalerio/Foundational-Python-for-Data-Science/blob/main/02_fundamentos_python.ipynb\" target=\"_parent\"><img src=\"https://colab.research.google.com/assets/colab-badge.svg\" alt=\"Open In Colab\"/></a>"
      ]
    },
    {
      "cell_type": "markdown",
      "source": [
        "# **Fundamentos de Python**\n",
        "\n",
        "Apresentação de dados básicos predefinidos inteiros e _strings_. Declarações que atribuem valores e variáveis, declarações usadas para direcionar as ações do computador e importar módulos.\n",
        "\n",
        "Ao final do capítulo, será possível escrever um programa que realiza operações matemáticas simples em valores armazenados."
      ],
      "metadata": {
        "id": "DQw5cV15xxbg"
      }
    },
    {
      "cell_type": "markdown",
      "source": [
        "### Tipos básicos em Python\n",
        "\n",
        "**Analisador**: programa que pega o código como entrada e traduz em instruções para o computador.\n",
        "Exemplo: Analisador Python.\n",
        "\n",
        "Analisador Python divide o código em **Tokens** que tem um significado particular definido para a linguagem Python.\n",
        "\n",
        "Esses grupos no Python chamam-se **coleções** e **tipos**.\n",
        "\n",
        "Exitem tipos predefinidos na própria linguagem e outros definidos por desenvolvedores. Os principais tipos predefinidos são:\n",
        "\n",
        "* numéricos\n",
        "* sequências\n",
        "* mapeamentos\n",
        "* classes\n",
        "* instâncias\n",
        "* exceções\n",
        "\n",
        "Os tipos predefinidos mais básicos são os **numéricos** e as **sequências**\n",
        "\n",
        "1. **numéricos**: booleanos (bool), inteiros (int), números de ponto flutuante (float) e números imaginários.\n",
        "2. **sequências**: _strings_ (str) e _strings_ binárias."
      ],
      "metadata": {
        "id": "AaLBkzI61dHd"
      }
    },
    {
      "cell_type": "code",
      "source": [
        "type(19)"
      ],
      "metadata": {
        "colab": {
          "base_uri": "https://localhost:8080/"
        },
        "id": "JJ7KZZEB4boj",
        "outputId": "a4c9b6c3-befc-4d65-f56d-13419910cf62"
      },
      "execution_count": null,
      "outputs": [
        {
          "output_type": "execute_result",
          "data": {
            "text/plain": [
              "int"
            ]
          },
          "metadata": {},
          "execution_count": 1
        }
      ]
    },
    {
      "cell_type": "code",
      "source": [
        "type(2.1)"
      ],
      "metadata": {
        "colab": {
          "base_uri": "https://localhost:8080/"
        },
        "id": "ciqM3H6D4d_m",
        "outputId": "e23d6a57-4686-4c5b-dd8a-342e5061c9a8"
      },
      "execution_count": null,
      "outputs": [
        {
          "output_type": "execute_result",
          "data": {
            "text/plain": [
              "float"
            ]
          },
          "metadata": {},
          "execution_count": 2
        }
      ]
    },
    {
      "cell_type": "code",
      "source": [
        "type(True)"
      ],
      "metadata": {
        "colab": {
          "base_uri": "https://localhost:8080/"
        },
        "id": "rMgaikc84jNL",
        "outputId": "6c0db3a4-b46a-46c8-aa24-c93c9be10b86"
      },
      "execution_count": null,
      "outputs": [
        {
          "output_type": "execute_result",
          "data": {
            "text/plain": [
              "bool"
            ]
          },
          "metadata": {},
          "execution_count": 3
        }
      ]
    },
    {
      "cell_type": "code",
      "source": [
        "type(False)"
      ],
      "metadata": {
        "colab": {
          "base_uri": "https://localhost:8080/"
        },
        "id": "V-cOQwLZ4p8D",
        "outputId": "0985f0ee-e03d-41e4-c96c-36f803f7e30d"
      },
      "execution_count": null,
      "outputs": [
        {
          "output_type": "execute_result",
          "data": {
            "text/plain": [
              "bool"
            ]
          },
          "metadata": {},
          "execution_count": 4
        }
      ]
    },
    {
      "cell_type": "code",
      "source": [
        "type (\"Hello\")"
      ],
      "metadata": {
        "colab": {
          "base_uri": "https://localhost:8080/"
        },
        "id": "Rk9CSPJ94s67",
        "outputId": "09f457e9-ea04-43a4-9aef-c6115c6bfd61"
      },
      "execution_count": null,
      "outputs": [
        {
          "output_type": "execute_result",
          "data": {
            "text/plain": [
              "str"
            ]
          },
          "metadata": {},
          "execution_count": 5
        }
      ]
    },
    {
      "cell_type": "code",
      "source": [
        "type(None)"
      ],
      "metadata": {
        "colab": {
          "base_uri": "https://localhost:8080/"
        },
        "id": "5-fkjMmB4zPK",
        "outputId": "d1375139-3e65-4ee7-f0a7-eead65f4b41e"
      },
      "execution_count": null,
      "outputs": [
        {
          "output_type": "execute_result",
          "data": {
            "text/plain": [
              "NoneType"
            ]
          },
          "metadata": {},
          "execution_count": 6
        }
      ]
    },
    {
      "cell_type": "markdown",
      "source": [
        "Os **inteiros** (int) são representados no código como dígitos inteiros comuns.\n",
        "\n",
        "Os **números de ponto flutuante** (float) são representados com dígitos com operador de ponto (números decimais).\n",
        "\n",
        "Os **booleanos** (bool) são representados por duas constantes, True e False, utilizados em testes lógicos.\n",
        "\n",
        "Uma **_string_** são caracteres entre aspas, utilizado para representar textos.\n",
        "\n",
        "O **NoneType** tem apenas um valor (None) e é utilizado para representar algo que não tem valor."
      ],
      "metadata": {
        "id": "psNty29G48BU"
      }
    },
    {
      "cell_type": "markdown",
      "source": [
        "### Linguagens de alto nível _versus_ linguagem de baixo nível\n",
        "\n",
        "**Linguagem de baixo nível**: são as linguagens mais próximas das instruções do computador. Exemplos: código da máquina e linguagem assembly. Com essas linguagens, você tem o máximo controle sobre exatamente o que faz o processador do computador.\n",
        "\n",
        "**Linguagem de alto nível**: abstraem grupos de instruções em partes maiores de funcionalidade, apresentam uma liguagem próxima da linguagem humana."
      ],
      "metadata": {
        "id": "DJGRlq53_huM"
      }
    },
    {
      "cell_type": "markdown",
      "source": [
        "### Declarações\n",
        "\n",
        "Cada declaração pode ser considerada uma ação que o computador deve realizar, uma declaração é uma linha de código.\n",
        "\n",
        "O python permite declarações simples e complexas. Nesse capítulo, será tratado declarações simples, posteriormente sera apresentado declarações complexas.\n",
        "\n",
        "Das ditas declarações simples, temos:\n",
        "\n",
        "1. Expressão\n",
        "2. Assert\n",
        "3. Atribuição\n",
        "4. Pass\n",
        "5. Delete\n",
        "6. Return\n",
        "7. Yield\n",
        "8. Raise\n",
        "9. Break\n",
        "10. Continue\n",
        "11. Import\n",
        "12. Future\n",
        "13. Global\n",
        "14. Nonlocal\n",
        "15. Print\n",
        "\n",
        "A maioria dos programas consistem em múltiplas declarações, sendo que o resultado de uma pode ser utilizado em declarações seguintes."
      ],
      "metadata": {
        "id": "oWSDv_jtCLz1"
      }
    },
    {
      "cell_type": "markdown",
      "source": [
        "### **Declarações de expressão**\n",
        "\n",
        "Parte do código avaliada em algum valor, ou sem valor (None). Pode ser uma expressão matemática ou uma chamada para uma função ou um método."
      ],
      "metadata": {
        "id": "vE1D_vOTnoM2"
      }
    },
    {
      "cell_type": "code",
      "source": [
        "23 * 42"
      ],
      "metadata": {
        "id": "H26ZCxHZCbO2",
        "colab": {
          "base_uri": "https://localhost:8080/"
        },
        "outputId": "170dac51-f5f5-4d8c-9784-e8c6e3c49fc8"
      },
      "execution_count": null,
      "outputs": [
        {
          "output_type": "execute_result",
          "data": {
            "text/plain": [
              "966"
            ]
          },
          "metadata": {},
          "execution_count": 1
        }
      ]
    },
    {
      "cell_type": "code",
      "source": [
        "\"Hello\""
      ],
      "metadata": {
        "colab": {
          "base_uri": "https://localhost:8080/",
          "height": 35
        },
        "id": "6TB2U5x2o74V",
        "outputId": "65afc2fa-d88b-4e16-f104-9b38a1d913dd"
      },
      "execution_count": null,
      "outputs": [
        {
          "output_type": "execute_result",
          "data": {
            "text/plain": [
              "'Hello'"
            ],
            "application/vnd.google.colaboratory.intrinsic+json": {
              "type": "string"
            }
          },
          "metadata": {},
          "execution_count": 2
        }
      ]
    },
    {
      "cell_type": "code",
      "source": [
        "import os\n",
        "os.getcwd()"
      ],
      "metadata": {
        "colab": {
          "base_uri": "https://localhost:8080/",
          "height": 35
        },
        "id": "zX0iHJyKo_qt",
        "outputId": "369362e0-cbb2-4cf2-de04-dc27bd2179a7"
      },
      "execution_count": null,
      "outputs": [
        {
          "output_type": "execute_result",
          "data": {
            "text/plain": [
              "'/content'"
            ],
            "application/vnd.google.colaboratory.intrinsic+json": {
              "type": "string"
            }
          },
          "metadata": {},
          "execution_count": 3
        }
      ]
    },
    {
      "cell_type": "markdown",
      "source": [
        "### **Declarações assert**\n",
        "\n",
        "A declaração assert tem uma expressão como argumento e parâmetro e assegura que o resultado seja avaliado como `True`. Expressões de diferentes argumentos retornam False, None, Zero, contêineres vazios e strings vazias, essas expressões são avaliadas como `False`, gerando um erro no código."
      ],
      "metadata": {
        "id": "pI1SZe1UpPoV"
      }
    },
    {
      "cell_type": "code",
      "source": [
        "assert(False)"
      ],
      "metadata": {
        "colab": {
          "base_uri": "https://localhost:8080/",
          "height": 175
        },
        "id": "ffprDzFIpFPR",
        "outputId": "8af81667-c012-4d02-dc21-f643fe4d77b8"
      },
      "execution_count": null,
      "outputs": [
        {
          "output_type": "error",
          "ename": "AssertionError",
          "evalue": "ignored",
          "traceback": [
            "\u001b[0;31m---------------------------------------------------------------------------\u001b[0m",
            "\u001b[0;31mAssertionError\u001b[0m                            Traceback (most recent call last)",
            "\u001b[0;32m<ipython-input-4-8808c4021c9c>\u001b[0m in \u001b[0;36m<cell line: 1>\u001b[0;34m()\u001b[0m\n\u001b[0;32m----> 1\u001b[0;31m \u001b[0;32massert\u001b[0m\u001b[0;34m(\u001b[0m\u001b[0;32mFalse\u001b[0m\u001b[0;34m)\u001b[0m\u001b[0;34m\u001b[0m\u001b[0;34m\u001b[0m\u001b[0m\n\u001b[0m",
            "\u001b[0;31mAssertionError\u001b[0m: "
          ]
        }
      ]
    },
    {
      "cell_type": "code",
      "source": [
        "assert(True)"
      ],
      "metadata": {
        "id": "oR6o4X6LqVeX"
      },
      "execution_count": null,
      "outputs": []
    },
    {
      "cell_type": "markdown",
      "source": [
        "As declarações assert são utilizadas para assegurar que alguma condição verdadeira seja, de fato, verdadeira. Essas declarações têm impacto no desempenho, sendo possível desativá-las\n",
        "\n",
        "`python -o my_script.py`"
      ],
      "metadata": {
        "id": "TlLFGL73qeuh"
      }
    },
    {
      "cell_type": "markdown",
      "source": [
        "### **Declarações de atribuição**\n",
        "\n",
        "Uma variável que aponta para um conjunto de dados, portanto, uma mesma variável pode ser apontada para diferentes itens. É possível mudar os dados para as quais uma variável aponta sem mudar a variável (muda o conjunto de dados mas mantém a mesma variável)."
      ],
      "metadata": {
        "id": "1vCPFjTMrQUd"
      }
    },
    {
      "cell_type": "code",
      "source": [
        "#Atribuir variáveis e utilizar em uma parte do texto\n",
        "x = 12\n",
        "y = 'Hello'\n",
        "answer = x + 7\n",
        "print(f\"{y} Duda, the answer is {answer}\")\n",
        "\n",
        "#é possível atribuir diversas variáveis de uma vez só separando por vírgulas\n",
        "\n",
        "e, t = 19, 'Thor'\n",
        "l = e + 2\n",
        "print(f\"{e} é meu aniversário, {l} é aniversário do lucas, o cachorro dele chama {t}\")"
      ],
      "metadata": {
        "colab": {
          "base_uri": "https://localhost:8080/"
        },
        "id": "W5L-FhVIrMlm",
        "outputId": "77e8703f-c259-4495-f9e5-5f82a950d1b5"
      },
      "execution_count": null,
      "outputs": [
        {
          "output_type": "stream",
          "name": "stdout",
          "text": [
            "Hello Duda, the answer is 19\n",
            "19 é meu aniversário, 21 é aniversário do lucas, o cachorro dele chama Thor\n"
          ]
        }
      ]
    },
    {
      "cell_type": "markdown",
      "source": [
        "### **Declarações pass**\n",
        "São espaços reservados, não realizam qualquer ação em si.\n"
      ],
      "metadata": {
        "id": "_hGlpSKGwaQr"
      }
    },
    {
      "cell_type": "markdown",
      "source": [
        "### **Declarações delete**\n",
        "\n",
        "Declaração delete exclui algo do programa em execução, consiste na palavra-chave `del()` com o item a ser excluido entre parênteses.\n",
        "\n",
        "\n",
        "\n"
      ],
      "metadata": {
        "id": "tT5bn6-bRpOW"
      }
    },
    {
      "cell_type": "code",
      "source": [
        "polly = 'parrot'\n",
        "print(polly)"
      ],
      "metadata": {
        "colab": {
          "base_uri": "https://localhost:8080/"
        },
        "id": "Ecv_GxU8Rnu4",
        "outputId": "cb4fb803-96b7-471d-f53a-e80be2dfd4cc"
      },
      "execution_count": 2,
      "outputs": [
        {
          "output_type": "stream",
          "name": "stdout",
          "text": [
            "parrot\n"
          ]
        }
      ]
    },
    {
      "cell_type": "code",
      "source": [
        "del(polly)\n",
        "print(polly)"
      ],
      "metadata": {
        "colab": {
          "base_uri": "https://localhost:8080/",
          "height": 193
        },
        "id": "q4wGB8cPUfjX",
        "outputId": "9137ad0c-356d-4b33-eeb1-1ee7e0efa4d3"
      },
      "execution_count": 3,
      "outputs": [
        {
          "output_type": "error",
          "ename": "NameError",
          "evalue": "ignored",
          "traceback": [
            "\u001b[0;31m---------------------------------------------------------------------------\u001b[0m",
            "\u001b[0;31mNameError\u001b[0m                                 Traceback (most recent call last)",
            "\u001b[0;32m<ipython-input-3-7727387dc3e3>\u001b[0m in \u001b[0;36m<cell line: 2>\u001b[0;34m()\u001b[0m\n\u001b[1;32m      1\u001b[0m \u001b[0;32mdel\u001b[0m\u001b[0;34m(\u001b[0m\u001b[0mpolly\u001b[0m\u001b[0;34m)\u001b[0m\u001b[0;34m\u001b[0m\u001b[0;34m\u001b[0m\u001b[0m\n\u001b[0;32m----> 2\u001b[0;31m \u001b[0mprint\u001b[0m\u001b[0;34m(\u001b[0m\u001b[0mpolly\u001b[0m\u001b[0;34m)\u001b[0m\u001b[0;34m\u001b[0m\u001b[0;34m\u001b[0m\u001b[0m\n\u001b[0m",
            "\u001b[0;31mNameError\u001b[0m: name 'polly' is not defined"
          ]
        }
      ]
    },
    {
      "cell_type": "markdown",
      "source": [
        "### **Declarações return**\n",
        "\n",
        "Define o valor de retorno de uma função."
      ],
      "metadata": {
        "id": "Up2d3WdvVcOh"
      }
    },
    {
      "cell_type": "markdown",
      "source": [
        "### **Declarações yield**\n",
        "\n",
        "Utilizada para escrever funções geradoras, que fornecem um modo de otimizar o desempenho e o uso da memória."
      ],
      "metadata": {
        "id": "xL6BCtgOVwQG"
      }
    },
    {
      "cell_type": "markdown",
      "source": [
        "### **Declarações raise**\n",
        "\n",
        "Os erros que ocorrem durante uma execução do programa são chamados de \"exceções\". As declarações raise são usadas para chamar exceções que foram capturadas e gerar uma exceção predefinida. Algumas exceções predefinidas podem ser encontradas em: https://docs.python.org/3/library/exceptions.html#bltin-exceptions."
      ],
      "metadata": {
        "id": "D2XAKwzjWh_f"
      }
    },
    {
      "cell_type": "code",
      "source": [
        "raise NotImplementedError"
      ],
      "metadata": {
        "colab": {
          "base_uri": "https://localhost:8080/",
          "height": 175
        },
        "id": "T8vsHeleUtBH",
        "outputId": "f4fb74ac-b7d9-4dd4-886f-b442be6c9d62"
      },
      "execution_count": 4,
      "outputs": [
        {
          "output_type": "error",
          "ename": "NotImplementedError",
          "evalue": "ignored",
          "traceback": [
            "\u001b[0;31m---------------------------------------------------------------------------\u001b[0m",
            "\u001b[0;31mNotImplementedError\u001b[0m                       Traceback (most recent call last)",
            "\u001b[0;32m<ipython-input-4-91639a24e592>\u001b[0m in \u001b[0;36m<cell line: 1>\u001b[0;34m()\u001b[0m\n\u001b[0;32m----> 1\u001b[0;31m \u001b[0;32mraise\u001b[0m \u001b[0mNotImplementedError\u001b[0m\u001b[0;34m\u001b[0m\u001b[0;34m\u001b[0m\u001b[0m\n\u001b[0m",
            "\u001b[0;31mNotImplementedError\u001b[0m: "
          ]
        }
      ]
    },
    {
      "cell_type": "markdown",
      "source": [
        "### **Declarações break**\n",
        "\n",
        "Declaração break para encerrar um loop antes de sua condição de loop normal ser atendida."
      ],
      "metadata": {
        "id": "PRLnGzjKbF7I"
      }
    },
    {
      "cell_type": "markdown",
      "source": [
        "### **Declarações continue**\n",
        "\n",
        "Declaração continue para pular uma interação do loop."
      ],
      "metadata": {
        "id": "gn_jc6zFbFwQ"
      }
    },
    {
      "cell_type": "markdown",
      "source": [
        "### **Declarações import**\n",
        "\n",
        "Utilizados para importar módulos (arquivos reutilizados). Fazendo uma relação com a linguagem R, é similar com o comando de importar pacotes `library()`.\n"
      ],
      "metadata": {
        "id": "C8dTOC9td3Ra"
      }
    },
    {
      "cell_type": "code",
      "source": [
        "import os"
      ],
      "metadata": {
        "id": "Va4XkSxvX0pI"
      },
      "execution_count": 5,
      "outputs": []
    },
    {
      "cell_type": "code",
      "source": [
        "os.listdir() #uma das funções do módulo 'os'."
      ],
      "metadata": {
        "colab": {
          "base_uri": "https://localhost:8080/"
        },
        "id": "KbRjDE6rhxFJ",
        "outputId": "d4f3a4e0-fb4b-409e-94fb-8418c458b548"
      },
      "execution_count": 7,
      "outputs": [
        {
          "output_type": "execute_result",
          "data": {
            "text/plain": [
              "['.config', 'sample_data']"
            ]
          },
          "metadata": {},
          "execution_count": 7
        }
      ]
    },
    {
      "cell_type": "markdown",
      "source": [
        "Módulos ou grupos de módulos são preparados para uma distribuição mior, eles são referidos como pacotes. A maioria dos pacotes públicos são hospedados no Python Package Index `pypi.org`. Para utilizar esses pacotes é preciso intalá-los usando a função `pip`, função similar ao `install.packages()` no R."
      ],
      "metadata": {
        "id": "XzC8IF-Aizga"
      }
    },
    {
      "cell_type": "code",
      "source": [
        "pip install pandas"
      ],
      "metadata": {
        "colab": {
          "base_uri": "https://localhost:8080/"
        },
        "id": "xS30BXH2iHHc",
        "outputId": "415b2afb-04f3-42ec-94c8-b5468d2b5b5d"
      },
      "execution_count": 8,
      "outputs": [
        {
          "output_type": "stream",
          "name": "stdout",
          "text": [
            "Requirement already satisfied: pandas in /usr/local/lib/python3.10/dist-packages (1.5.3)\n",
            "Requirement already satisfied: python-dateutil>=2.8.1 in /usr/local/lib/python3.10/dist-packages (from pandas) (2.8.2)\n",
            "Requirement already satisfied: pytz>=2020.1 in /usr/local/lib/python3.10/dist-packages (from pandas) (2023.3.post1)\n",
            "Requirement already satisfied: numpy>=1.21.0 in /usr/local/lib/python3.10/dist-packages (from pandas) (1.23.5)\n",
            "Requirement already satisfied: six>=1.5 in /usr/local/lib/python3.10/dist-packages (from python-dateutil>=2.8.1->pandas) (1.16.0)\n"
          ]
        }
      ]
    },
    {
      "cell_type": "code",
      "source": [
        "import pandas"
      ],
      "metadata": {
        "id": "Q54LXgACjfKJ"
      },
      "execution_count": 9,
      "outputs": []
    },
    {
      "cell_type": "code",
      "source": [
        "import pandas as pd #tipo um \"renomear\""
      ],
      "metadata": {
        "id": "ugyKBQ4JjjRk"
      },
      "execution_count": 10,
      "outputs": []
    },
    {
      "cell_type": "code",
      "source": [
        "pd.read_excel('/some_excel_file.xls') #pode referenciar o módulo pandas usando pd.\n",
        "#deu erro porque não existe nenhum arquivo no meu diretório com o nome 'some_excel_file.xls'."
      ],
      "metadata": {
        "colab": {
          "base_uri": "https://localhost:8080/",
          "height": 338
        },
        "id": "JVTWascajpUw",
        "outputId": "50d8b28b-7df9-41a5-ef9d-d4b1072ebeb5"
      },
      "execution_count": 12,
      "outputs": [
        {
          "output_type": "error",
          "ename": "FileNotFoundError",
          "evalue": "ignored",
          "traceback": [
            "\u001b[0;31m---------------------------------------------------------------------------\u001b[0m",
            "\u001b[0;31mFileNotFoundError\u001b[0m                         Traceback (most recent call last)",
            "\u001b[0;32m<ipython-input-12-18df01e33f68>\u001b[0m in \u001b[0;36m<cell line: 1>\u001b[0;34m()\u001b[0m\n\u001b[0;32m----> 1\u001b[0;31m \u001b[0mpd\u001b[0m\u001b[0;34m.\u001b[0m\u001b[0mread_excel\u001b[0m\u001b[0;34m(\u001b[0m\u001b[0;34m'/some_excel_file.xls'\u001b[0m\u001b[0;34m)\u001b[0m \u001b[0;31m#pode referenciar o módulo pandas usando pd.\u001b[0m\u001b[0;34m\u001b[0m\u001b[0;34m\u001b[0m\u001b[0m\n\u001b[0m\u001b[1;32m      2\u001b[0m \u001b[0;31m#deu erro porque não existe nenhum arquivo no meu diretório com o nome 'some_excel_file.xls'.\u001b[0m\u001b[0;34m\u001b[0m\u001b[0;34m\u001b[0m\u001b[0m\n",
            "\u001b[0;32m/usr/local/lib/python3.10/dist-packages/pandas/util/_decorators.py\u001b[0m in \u001b[0;36mwrapper\u001b[0;34m(*args, **kwargs)\u001b[0m\n\u001b[1;32m    209\u001b[0m                 \u001b[0;32melse\u001b[0m\u001b[0;34m:\u001b[0m\u001b[0;34m\u001b[0m\u001b[0;34m\u001b[0m\u001b[0m\n\u001b[1;32m    210\u001b[0m                     \u001b[0mkwargs\u001b[0m\u001b[0;34m[\u001b[0m\u001b[0mnew_arg_name\u001b[0m\u001b[0;34m]\u001b[0m \u001b[0;34m=\u001b[0m \u001b[0mnew_arg_value\u001b[0m\u001b[0;34m\u001b[0m\u001b[0;34m\u001b[0m\u001b[0m\n\u001b[0;32m--> 211\u001b[0;31m             \u001b[0;32mreturn\u001b[0m \u001b[0mfunc\u001b[0m\u001b[0;34m(\u001b[0m\u001b[0;34m*\u001b[0m\u001b[0margs\u001b[0m\u001b[0;34m,\u001b[0m \u001b[0;34m**\u001b[0m\u001b[0mkwargs\u001b[0m\u001b[0;34m)\u001b[0m\u001b[0;34m\u001b[0m\u001b[0;34m\u001b[0m\u001b[0m\n\u001b[0m\u001b[1;32m    212\u001b[0m \u001b[0;34m\u001b[0m\u001b[0m\n\u001b[1;32m    213\u001b[0m         \u001b[0;32mreturn\u001b[0m \u001b[0mcast\u001b[0m\u001b[0;34m(\u001b[0m\u001b[0mF\u001b[0m\u001b[0;34m,\u001b[0m \u001b[0mwrapper\u001b[0m\u001b[0;34m)\u001b[0m\u001b[0;34m\u001b[0m\u001b[0;34m\u001b[0m\u001b[0m\n",
            "\u001b[0;32m/usr/local/lib/python3.10/dist-packages/pandas/util/_decorators.py\u001b[0m in \u001b[0;36mwrapper\u001b[0;34m(*args, **kwargs)\u001b[0m\n\u001b[1;32m    329\u001b[0m                     \u001b[0mstacklevel\u001b[0m\u001b[0;34m=\u001b[0m\u001b[0mfind_stack_level\u001b[0m\u001b[0;34m(\u001b[0m\u001b[0;34m)\u001b[0m\u001b[0;34m,\u001b[0m\u001b[0;34m\u001b[0m\u001b[0;34m\u001b[0m\u001b[0m\n\u001b[1;32m    330\u001b[0m                 )\n\u001b[0;32m--> 331\u001b[0;31m             \u001b[0;32mreturn\u001b[0m \u001b[0mfunc\u001b[0m\u001b[0;34m(\u001b[0m\u001b[0;34m*\u001b[0m\u001b[0margs\u001b[0m\u001b[0;34m,\u001b[0m \u001b[0;34m**\u001b[0m\u001b[0mkwargs\u001b[0m\u001b[0;34m)\u001b[0m\u001b[0;34m\u001b[0m\u001b[0;34m\u001b[0m\u001b[0m\n\u001b[0m\u001b[1;32m    332\u001b[0m \u001b[0;34m\u001b[0m\u001b[0m\n\u001b[1;32m    333\u001b[0m         \u001b[0;31m# error: \"Callable[[VarArg(Any), KwArg(Any)], Any]\" has no\u001b[0m\u001b[0;34m\u001b[0m\u001b[0;34m\u001b[0m\u001b[0m\n",
            "\u001b[0;32m/usr/local/lib/python3.10/dist-packages/pandas/io/excel/_base.py\u001b[0m in \u001b[0;36mread_excel\u001b[0;34m(io, sheet_name, header, names, index_col, usecols, squeeze, dtype, engine, converters, true_values, false_values, skiprows, nrows, na_values, keep_default_na, na_filter, verbose, parse_dates, date_parser, thousands, decimal, comment, skipfooter, convert_float, mangle_dupe_cols, storage_options)\u001b[0m\n\u001b[1;32m    480\u001b[0m     \u001b[0;32mif\u001b[0m \u001b[0;32mnot\u001b[0m \u001b[0misinstance\u001b[0m\u001b[0;34m(\u001b[0m\u001b[0mio\u001b[0m\u001b[0;34m,\u001b[0m \u001b[0mExcelFile\u001b[0m\u001b[0;34m)\u001b[0m\u001b[0;34m:\u001b[0m\u001b[0;34m\u001b[0m\u001b[0;34m\u001b[0m\u001b[0m\n\u001b[1;32m    481\u001b[0m         \u001b[0mshould_close\u001b[0m \u001b[0;34m=\u001b[0m \u001b[0;32mTrue\u001b[0m\u001b[0;34m\u001b[0m\u001b[0;34m\u001b[0m\u001b[0m\n\u001b[0;32m--> 482\u001b[0;31m         \u001b[0mio\u001b[0m \u001b[0;34m=\u001b[0m \u001b[0mExcelFile\u001b[0m\u001b[0;34m(\u001b[0m\u001b[0mio\u001b[0m\u001b[0;34m,\u001b[0m \u001b[0mstorage_options\u001b[0m\u001b[0;34m=\u001b[0m\u001b[0mstorage_options\u001b[0m\u001b[0;34m,\u001b[0m \u001b[0mengine\u001b[0m\u001b[0;34m=\u001b[0m\u001b[0mengine\u001b[0m\u001b[0;34m)\u001b[0m\u001b[0;34m\u001b[0m\u001b[0;34m\u001b[0m\u001b[0m\n\u001b[0m\u001b[1;32m    483\u001b[0m     \u001b[0;32melif\u001b[0m \u001b[0mengine\u001b[0m \u001b[0;32mand\u001b[0m \u001b[0mengine\u001b[0m \u001b[0;34m!=\u001b[0m \u001b[0mio\u001b[0m\u001b[0;34m.\u001b[0m\u001b[0mengine\u001b[0m\u001b[0;34m:\u001b[0m\u001b[0;34m\u001b[0m\u001b[0;34m\u001b[0m\u001b[0m\n\u001b[1;32m    484\u001b[0m         raise ValueError(\n",
            "\u001b[0;32m/usr/local/lib/python3.10/dist-packages/pandas/io/excel/_base.py\u001b[0m in \u001b[0;36m__init__\u001b[0;34m(self, path_or_buffer, engine, storage_options)\u001b[0m\n\u001b[1;32m   1650\u001b[0m                 \u001b[0mext\u001b[0m \u001b[0;34m=\u001b[0m \u001b[0;34m\"xls\"\u001b[0m\u001b[0;34m\u001b[0m\u001b[0;34m\u001b[0m\u001b[0m\n\u001b[1;32m   1651\u001b[0m             \u001b[0;32melse\u001b[0m\u001b[0;34m:\u001b[0m\u001b[0;34m\u001b[0m\u001b[0;34m\u001b[0m\u001b[0m\n\u001b[0;32m-> 1652\u001b[0;31m                 ext = inspect_excel_format(\n\u001b[0m\u001b[1;32m   1653\u001b[0m                     \u001b[0mcontent_or_path\u001b[0m\u001b[0;34m=\u001b[0m\u001b[0mpath_or_buffer\u001b[0m\u001b[0;34m,\u001b[0m \u001b[0mstorage_options\u001b[0m\u001b[0;34m=\u001b[0m\u001b[0mstorage_options\u001b[0m\u001b[0;34m\u001b[0m\u001b[0;34m\u001b[0m\u001b[0m\n\u001b[1;32m   1654\u001b[0m                 )\n",
            "\u001b[0;32m/usr/local/lib/python3.10/dist-packages/pandas/io/excel/_base.py\u001b[0m in \u001b[0;36minspect_excel_format\u001b[0;34m(content_or_path, storage_options)\u001b[0m\n\u001b[1;32m   1523\u001b[0m         \u001b[0mcontent_or_path\u001b[0m \u001b[0;34m=\u001b[0m \u001b[0mBytesIO\u001b[0m\u001b[0;34m(\u001b[0m\u001b[0mcontent_or_path\u001b[0m\u001b[0;34m)\u001b[0m\u001b[0;34m\u001b[0m\u001b[0;34m\u001b[0m\u001b[0m\n\u001b[1;32m   1524\u001b[0m \u001b[0;34m\u001b[0m\u001b[0m\n\u001b[0;32m-> 1525\u001b[0;31m     with get_handle(\n\u001b[0m\u001b[1;32m   1526\u001b[0m         \u001b[0mcontent_or_path\u001b[0m\u001b[0;34m,\u001b[0m \u001b[0;34m\"rb\"\u001b[0m\u001b[0;34m,\u001b[0m \u001b[0mstorage_options\u001b[0m\u001b[0;34m=\u001b[0m\u001b[0mstorage_options\u001b[0m\u001b[0;34m,\u001b[0m \u001b[0mis_text\u001b[0m\u001b[0;34m=\u001b[0m\u001b[0;32mFalse\u001b[0m\u001b[0;34m\u001b[0m\u001b[0;34m\u001b[0m\u001b[0m\n\u001b[1;32m   1527\u001b[0m     ) as handle:\n",
            "\u001b[0;32m/usr/local/lib/python3.10/dist-packages/pandas/io/common.py\u001b[0m in \u001b[0;36mget_handle\u001b[0;34m(path_or_buf, mode, encoding, compression, memory_map, is_text, errors, storage_options)\u001b[0m\n\u001b[1;32m    863\u001b[0m         \u001b[0;32melse\u001b[0m\u001b[0;34m:\u001b[0m\u001b[0;34m\u001b[0m\u001b[0;34m\u001b[0m\u001b[0m\n\u001b[1;32m    864\u001b[0m             \u001b[0;31m# Binary mode\u001b[0m\u001b[0;34m\u001b[0m\u001b[0;34m\u001b[0m\u001b[0m\n\u001b[0;32m--> 865\u001b[0;31m             \u001b[0mhandle\u001b[0m \u001b[0;34m=\u001b[0m \u001b[0mopen\u001b[0m\u001b[0;34m(\u001b[0m\u001b[0mhandle\u001b[0m\u001b[0;34m,\u001b[0m \u001b[0mioargs\u001b[0m\u001b[0;34m.\u001b[0m\u001b[0mmode\u001b[0m\u001b[0;34m)\u001b[0m\u001b[0;34m\u001b[0m\u001b[0;34m\u001b[0m\u001b[0m\n\u001b[0m\u001b[1;32m    866\u001b[0m         \u001b[0mhandles\u001b[0m\u001b[0;34m.\u001b[0m\u001b[0mappend\u001b[0m\u001b[0;34m(\u001b[0m\u001b[0mhandle\u001b[0m\u001b[0;34m)\u001b[0m\u001b[0;34m\u001b[0m\u001b[0;34m\u001b[0m\u001b[0m\n\u001b[1;32m    867\u001b[0m \u001b[0;34m\u001b[0m\u001b[0m\n",
            "\u001b[0;31mFileNotFoundError\u001b[0m: [Errno 2] No such file or directory: '/some_excel_file.xls'"
          ]
        }
      ]
    },
    {
      "cell_type": "markdown",
      "source": [
        "É possível importar partes de um módulo usando a palavra-chave `from` com `import`."
      ],
      "metadata": {
        "id": "lMtfa4lIkqK3"
      }
    },
    {
      "cell_type": "markdown",
      "source": [
        "### **Declarações future**\n",
        "\n",
        "Permite usar certos módulos que fazem parte de uma futura versão, raramente utilizado em ciência de dados."
      ],
      "metadata": {
        "id": "bJTdit-rmEP9"
      }
    },
    {
      "cell_type": "markdown",
      "source": [
        "### **Declarações global**\n",
        "\n",
        "Modo de compartilhar variáveis nos escopos (ambiente que compartilha definições de nomes e valores."
      ],
      "metadata": {
        "id": "5_Xz4KqWmqkp"
      }
    },
    {
      "cell_type": "markdown",
      "source": [
        "### **Declarações nonlocal**\n",
        "\n",
        "Outro modo de compartilhar variáveis no escopo essa declatação inclui o escopo atual. Muito específico portanto é raramente utilizada."
      ],
      "metadata": {
        "id": "Q5Yp3rZTnlBi"
      }
    },
    {
      "cell_type": "markdown",
      "source": [
        "### **Declarações print**\n",
        "\n",
        "A função `print` gera texto no fluxo de saída."
      ],
      "metadata": {
        "id": "T2MPAFfgoy5M"
      }
    },
    {
      "cell_type": "code",
      "source": [
        "print(1)"
      ],
      "metadata": {
        "colab": {
          "base_uri": "https://localhost:8080/"
        },
        "id": "KJRJ-x2Splk2",
        "outputId": "7d97f2cb-e151-4dfb-fde8-bc8391181811"
      },
      "execution_count": 20,
      "outputs": [
        {
          "output_type": "stream",
          "name": "stdout",
          "text": [
            "1\n"
          ]
        }
      ]
    },
    {
      "cell_type": "code",
      "source": [
        "print('a') #texto deve estar acompanhado de aspas"
      ],
      "metadata": {
        "colab": {
          "base_uri": "https://localhost:8080/"
        },
        "id": "n5okmO7GpnhW",
        "outputId": "651545a9-fb55-422e-d256-f146205108f3"
      },
      "execution_count": 21,
      "outputs": [
        {
          "output_type": "stream",
          "name": "stdout",
          "text": [
            "a\n"
          ]
        }
      ]
    },
    {
      "cell_type": "code",
      "source": [
        "print(1, 'a')"
      ],
      "metadata": {
        "colab": {
          "base_uri": "https://localhost:8080/"
        },
        "id": "AuUzu3MBprsj",
        "outputId": "f14de1d0-86d7-40b4-ccb5-b2392c88d04d"
      },
      "execution_count": 22,
      "outputs": [
        {
          "output_type": "stream",
          "name": "stdout",
          "text": [
            "1 a\n"
          ]
        }
      ]
    },
    {
      "cell_type": "code",
      "source": [
        "print(1, 'a', sep='->') #adicionar um separador entre os itens"
      ],
      "metadata": {
        "colab": {
          "base_uri": "https://localhost:8080/"
        },
        "id": "2hPvVjcdp1I7",
        "outputId": "8fbaf503-1bf6-43c2-ce3b-fcf8fd0c2410"
      },
      "execution_count": 23,
      "outputs": [
        {
          "output_type": "stream",
          "name": "stdout",
          "text": [
            "1->a\n"
          ]
        }
      ]
    },
    {
      "cell_type": "markdown",
      "source": [
        "## Operações matemáticas básicas\n",
        "\n"
      ],
      "metadata": {
        "id": "4-2y0oQCrMYH"
      }
    },
    {
      "cell_type": "code",
      "source": [
        "2 + 3 #adição"
      ],
      "metadata": {
        "colab": {
          "base_uri": "https://localhost:8080/"
        },
        "id": "gaFzVrEMrIda",
        "outputId": "fb08a6c4-623d-42bb-85dc-43e1e955f5e8"
      },
      "execution_count": 29,
      "outputs": [
        {
          "output_type": "execute_result",
          "data": {
            "text/plain": [
              "5"
            ]
          },
          "metadata": {},
          "execution_count": 29
        }
      ]
    },
    {
      "cell_type": "code",
      "source": [
        "5 - 6 #subtração"
      ],
      "metadata": {
        "colab": {
          "base_uri": "https://localhost:8080/"
        },
        "id": "dGmlhjVdrYuC",
        "outputId": "d147e043-280a-4be2-babb-7890f93deaa5"
      },
      "execution_count": 30,
      "outputs": [
        {
          "output_type": "execute_result",
          "data": {
            "text/plain": [
              "-1"
            ]
          },
          "metadata": {},
          "execution_count": 30
        }
      ]
    },
    {
      "cell_type": "code",
      "source": [
        "3*4 #multiplicação"
      ],
      "metadata": {
        "colab": {
          "base_uri": "https://localhost:8080/"
        },
        "id": "hjnToS_lranS",
        "outputId": "056b53af-54b0-4c78-e0ba-decfd31fe565"
      },
      "execution_count": 31,
      "outputs": [
        {
          "output_type": "execute_result",
          "data": {
            "text/plain": [
              "12"
            ]
          },
          "metadata": {},
          "execution_count": 31
        }
      ]
    },
    {
      "cell_type": "code",
      "source": [
        "9/3 #divisão"
      ],
      "metadata": {
        "colab": {
          "base_uri": "https://localhost:8080/"
        },
        "id": "pOyY-Vl7rdN2",
        "outputId": "525651d1-a057-4d81-d76d-7cc523a8bcef"
      },
      "execution_count": 32,
      "outputs": [
        {
          "output_type": "execute_result",
          "data": {
            "text/plain": [
              "3.0"
            ]
          },
          "metadata": {},
          "execution_count": 32
        }
      ]
    },
    {
      "cell_type": "code",
      "source": [
        "2**3 #elevado"
      ],
      "metadata": {
        "colab": {
          "base_uri": "https://localhost:8080/"
        },
        "id": "rLWMKqI5reyL",
        "outputId": "c3b46f65-8cc9-4c20-a6df-aba2b6d51775"
      },
      "execution_count": 33,
      "outputs": [
        {
          "output_type": "execute_result",
          "data": {
            "text/plain": [
              "8"
            ]
          },
          "metadata": {},
          "execution_count": 33
        }
      ]
    },
    {
      "cell_type": "code",
      "source": [
        "#Para limitar o resultado da divisão por números inteiros e não como ponto flutuante é só usar duas barras\n",
        "9//3"
      ],
      "metadata": {
        "colab": {
          "base_uri": "https://localhost:8080/"
        },
        "id": "qwlfWCOTri62",
        "outputId": "b8fd51e6-36da-4a69-eec0-1a1b19c3ea2d"
      },
      "execution_count": 35,
      "outputs": [
        {
          "output_type": "execute_result",
          "data": {
            "text/plain": [
              "3"
            ]
          },
          "metadata": {},
          "execution_count": 35
        }
      ]
    },
    {
      "cell_type": "code",
      "source": [
        "#Até mesmo para resultados que apresentam decimal\n",
        "5//2"
      ],
      "metadata": {
        "colab": {
          "base_uri": "https://localhost:8080/"
        },
        "id": "487jxZICsyse",
        "outputId": "d7113a8f-55dd-436e-ae32-14f280049938"
      },
      "execution_count": 36,
      "outputs": [
        {
          "output_type": "execute_result",
          "data": {
            "text/plain": [
              "2"
            ]
          },
          "metadata": {},
          "execution_count": 36
        }
      ]
    },
    {
      "cell_type": "code",
      "source": [
        "5%2 #módulo - retorna o resto de uma divisão"
      ],
      "metadata": {
        "colab": {
          "base_uri": "https://localhost:8080/"
        },
        "id": "HGx0B0Bas78q",
        "outputId": "ddaae1e1-c833-4ee9-cfa4-162c1e19f2bb"
      },
      "execution_count": 37,
      "outputs": [
        {
          "output_type": "execute_result",
          "data": {
            "text/plain": [
              "1"
            ]
          },
          "metadata": {},
          "execution_count": 37
        }
      ]
    },
    {
      "cell_type": "markdown",
      "source": [
        "O módulo é útil para determinar se um número é fator de outro (resto 0) para isso usa-se a palavra-chave `is`."
      ],
      "metadata": {
        "id": "StCXOnCetKhC"
      }
    },
    {
      "cell_type": "code",
      "source": [
        "14%7 is 0"
      ],
      "metadata": {
        "colab": {
          "base_uri": "https://localhost:8080/"
        },
        "id": "lwnngq95tF3V",
        "outputId": "1ad830b9-d17f-498c-9b97-f08cbd4b4c54"
      },
      "execution_count": 38,
      "outputs": [
        {
          "output_type": "stream",
          "name": "stderr",
          "text": [
            "<>:1: SyntaxWarning: \"is\" with a literal. Did you mean \"==\"?\n",
            "<>:1: SyntaxWarning: \"is\" with a literal. Did you mean \"==\"?\n",
            "<ipython-input-38-7b6914c0d70f>:1: SyntaxWarning: \"is\" with a literal. Did you mean \"==\"?\n",
            "  14%7 is 0\n"
          ]
        },
        {
          "output_type": "execute_result",
          "data": {
            "text/plain": [
              "True"
            ]
          },
          "metadata": {},
          "execution_count": 38
        }
      ]
    }
  ]
}